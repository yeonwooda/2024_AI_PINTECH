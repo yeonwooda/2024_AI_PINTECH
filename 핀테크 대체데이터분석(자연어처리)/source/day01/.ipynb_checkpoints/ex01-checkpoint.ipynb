{
 "cells": [
  {
   "cell_type": "code",
   "execution_count": 1,
   "id": "cb8a8162-2575-43be-8755-bf370a101075",
   "metadata": {},
   "outputs": [
    {
     "name": "stdout",
     "output_type": "stream",
     "text": [
      "Collecting nltk\n",
      "  Downloading nltk-3.9.1-py3-none-any.whl.metadata (2.9 kB)\n",
      "Collecting click (from nltk)\n",
      "  Downloading click-8.1.8-py3-none-any.whl.metadata (2.3 kB)\n",
      "Requirement already satisfied: joblib in d:\\mldl\\lib\\site-packages (from nltk) (1.4.2)\n",
      "Collecting regex>=2021.8.3 (from nltk)\n",
      "  Downloading regex-2024.11.6-cp312-cp312-win_amd64.whl.metadata (41 kB)\n",
      "Collecting tqdm (from nltk)\n",
      "  Downloading tqdm-4.67.1-py3-none-any.whl.metadata (57 kB)\n",
      "Requirement already satisfied: colorama in c:\\users\\admin\\appdata\\roaming\\python\\python312\\site-packages (from click->nltk) (0.4.6)\n",
      "Downloading nltk-3.9.1-py3-none-any.whl (1.5 MB)\n",
      "   ---------------------------------------- 0.0/1.5 MB ? eta -:--:--\n",
      "   ---------------------------------------- 1.5/1.5 MB 20.1 MB/s eta 0:00:00\n",
      "Downloading regex-2024.11.6-cp312-cp312-win_amd64.whl (273 kB)\n",
      "Downloading click-8.1.8-py3-none-any.whl (98 kB)\n",
      "Downloading tqdm-4.67.1-py3-none-any.whl (78 kB)\n",
      "Installing collected packages: tqdm, regex, click, nltk\n",
      "Successfully installed click-8.1.8 nltk-3.9.1 regex-2024.11.6 tqdm-4.67.1\n"
     ]
    }
   ],
   "source": [
    "# 토크나이징\n",
    "# nltk\n",
    "!pip install nltk"
   ]
  },
  {
   "cell_type": "code",
   "execution_count": 10,
   "id": "bd8a4b3e-4f7b-4f36-8eae-72c4bba676b5",
   "metadata": {},
   "outputs": [
    {
     "data": {
      "text/plain": [
       "True"
      ]
     },
     "execution_count": 10,
     "metadata": {},
     "output_type": "execute_result"
    }
   ],
   "source": [
    "import nltk\n",
    "nltk.download(\"all\", quiet=True)"
   ]
  },
  {
   "cell_type": "code",
   "execution_count": 13,
   "id": "48206eaa-5628-4d7d-b0cf-e51c207733d4",
   "metadata": {
    "scrolled": true
   },
   "outputs": [
    {
     "name": "stdout",
     "output_type": "stream",
     "text": [
      "['사과', ',', '배', ',', '오렌지', ',', '나는', '3개의', '사과를', '구입했다', '.']\n"
     ]
    }
   ],
   "source": [
    "# word_tokenize : 단어 단위로 토큰 분리, sent_tokenize : 문장 단위로 토큰 분리\n",
    "from nltk.tokenize import word_tokenize\n",
    "\n",
    "#text = \"apple, pear, orange, I bought 3 apples.\"\n",
    "text = \"사과, 배, 오렌지, 나는 3개의 사과를 구입했다.\"\n",
    "print(word_tokenize(text))"
   ]
  },
  {
   "cell_type": "code",
   "execution_count": 14,
   "id": "fbeaf8ff-3295-4184-875d-dc96fd510159",
   "metadata": {
    "scrolled": true
   },
   "outputs": [
    {
     "name": "stdout",
     "output_type": "stream",
     "text": [
      "['삼성전자의 뒤를 이어 KT(1218억원), 쿠팡(660억원)도 지난해와 순위가 같았다.', '나머지 기업들은 10위 권 내에서 순위 변동이 있었다.', '지난해까지 4위와 5위였던 SK하이닉스와 SK텔레콤은 각각 6위와 7위로 밀려났고, 그 자리는 삼성SDS와 LG U+가 차지했다.', '정보 보호 전담 인력은 삼성전자, KT, 삼성SDS 순으로 많았다.', '공시 대상 기업 전체의 올해 정보 보호 투자액은 2조1196억원, 전담 인력은 7681.4명으로 지난해보다 각각 15.7%, 13.9% 증가했다.', '평균 투자액(29억원)과 평균 전담 인력(10.5명)도 지난해보다 늘었다.', '정보 보호에 대한 기업의 사회적 책임이 강조됨에 따라 자율 공시 기업의 수도 지난해 63개에서 91개로 늘었다.', '업종별 평균 투자액은 금융업(76억원), 정보통신업(59억원), 도소매업(27억원) 순으로 많았다.', '류제명 과학기술정보통신부 네트워크정책실장은 \"정보보호 공시 제도가 기업의 정보보호 수준 제고에 기여하고 있음을 기업들의 자발적인 정보보호 투자 확대를 통해 확인할 수 있었다\"며 \"정부는 공시 내용 검증을 통해 정확한 정보를 이용자에게 제공할 것\"이라고 말했다.']\n"
     ]
    }
   ],
   "source": [
    "from nltk.tokenize import sent_tokenize\n",
    "\n",
    "text = \"\"\"삼성전자의 뒤를 이어 KT(1218억원), 쿠팡(660억원)도 지난해와 순위가 같았다. 나머지 기업들은 10위 권 내에서 순위 변동이 있었다. 지난해까지 4위와 5위였던 SK하이닉스와 SK텔레콤은 각각 6위와 7위로 밀려났고, 그 자리는 삼성SDS와 LG U+가 차지했다.\n",
    "\n",
    "정보 보호 전담 인력은 삼성전자, KT, 삼성SDS 순으로 많았다. 공시 대상 기업 전체의 올해 정보 보호 투자액은 2조1196억원, 전담 인력은 7681.4명으로 지난해보다 각각 15.7%, 13.9% 증가했다. 평균 투자액(29억원)과 평균 전담 인력(10.5명)도 지난해보다 늘었다.\n",
    "\n",
    "정보 보호에 대한 기업의 사회적 책임이 강조됨에 따라 자율 공시 기업의 수도 지난해 63개에서 91개로 늘었다.\n",
    "\n",
    "업종별 평균 투자액은 금융업(76억원), 정보통신업(59억원), 도소매업(27억원) 순으로 많았다.\n",
    "\n",
    "류제명 과학기술정보통신부 네트워크정책실장은 \"정보보호 공시 제도가 기업의 정보보호 수준 제고에 기여하고 있음을 기업들의 자발적인 정보보호 투자 확대를 통해 확인할 수 있었다\"며 \"정부는 공시 내용 검증을 통해 정확한 정보를 이용자에게 제공할 것\"이라고 말했다.\n",
    "\"\"\"\n",
    "print(sent_tokenize(text))"
   ]
  },
  {
   "cell_type": "code",
   "execution_count": 11,
   "id": "ef16d6bc-1b65-460a-a16b-bc8fb33ebb27",
   "metadata": {},
   "outputs": [],
   "source": [
    "# 원핫 인코딩\n",
    "from sklearn.preprocessing import LabelEncoder"
   ]
  },
  {
   "cell_type": "code",
   "execution_count": 15,
   "id": "08c67f06-6d7b-4589-a112-c8dc4991b007",
   "metadata": {},
   "outputs": [
    {
     "name": "stdout",
     "output_type": "stream",
     "text": [
      "{'포도', '배', '오렌지', '사과'}\n"
     ]
    }
   ],
   "source": [
    "data = [\"사과\", \"배\", \"사과\", \"오렌지\", \"포도\", \"배\", \"사과\"]\n",
    "print(set(data))"
   ]
  },
  {
   "cell_type": "code",
   "execution_count": 16,
   "id": "121ea1fc-0f38-44c2-ad79-5bbaea7f8de4",
   "metadata": {},
   "outputs": [],
   "source": [
    "import numpy as np"
   ]
  },
  {
   "cell_type": "code",
   "execution_count": 18,
   "id": "2daf8b0f-9fc3-4411-bd6d-13746ec01afe",
   "metadata": {},
   "outputs": [
    {
     "name": "stdout",
     "output_type": "stream",
     "text": [
      "['사과' '배' '사과' '오렌지' '포도' '배' '사과']\n"
     ]
    }
   ],
   "source": [
    "values = np.array(data)\n",
    "print(values)"
   ]
  },
  {
   "cell_type": "code",
   "execution_count": 20,
   "id": "3411e403-956f-453f-b542-85879c5f9b5a",
   "metadata": {},
   "outputs": [],
   "source": [
    "# 레이블 인코딩\n",
    "label_encoder = LabelEncoder()  # 데이터 -> int, int 순서 -> 데이터 \n",
    "# fit(...) : 기준, transform(..) : 변환\n",
    "# fit_transform(..) : fit() + transform()\n",
    "integer_encoded = label_encoder.fit_transform(values)"
   ]
  },
  {
   "cell_type": "code",
   "execution_count": 21,
   "id": "f1f706b9-dae0-4560-a8d5-ecf48eb689c2",
   "metadata": {},
   "outputs": [
    {
     "name": "stdout",
     "output_type": "stream",
     "text": [
      "{'포도', '배', '오렌지', '사과'}\n"
     ]
    },
    {
     "data": {
      "text/plain": [
       "array([1, 0, 1, 2, 3, 0, 1], dtype=int64)"
      ]
     },
     "execution_count": 21,
     "metadata": {},
     "output_type": "execute_result"
    }
   ],
   "source": [
    "print(set(data))\n",
    "integer_encoded"
   ]
  },
  {
   "cell_type": "code",
   "execution_count": null,
   "id": "e3b95c73-77c0-4603-9a38-088697d7d384",
   "metadata": {},
   "outputs": [],
   "source": []
  }
 ],
 "metadata": {
  "kernelspec": {
   "display_name": "Python 3 (ipykernel)",
   "language": "python",
   "name": "python3"
  },
  "language_info": {
   "codemirror_mode": {
    "name": "ipython",
    "version": 3
   },
   "file_extension": ".py",
   "mimetype": "text/x-python",
   "name": "python",
   "nbconvert_exporter": "python",
   "pygments_lexer": "ipython3",
   "version": "3.12.7"
  }
 },
 "nbformat": 4,
 "nbformat_minor": 5
}
