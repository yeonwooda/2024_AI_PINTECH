{
 "cells": [
  {
   "cell_type": "code",
   "execution_count": 1,
   "id": "6d576362-4189-4a92-9844-5fb1a38583a2",
   "metadata": {},
   "outputs": [],
   "source": [
    "import numpy as np"
   ]
  },
  {
   "cell_type": "code",
   "execution_count": 2,
   "id": "f8400096-5dfc-46a3-a44c-30c9fe483c76",
   "metadata": {},
   "outputs": [],
   "source": [
    "# 브로드 캐스팅\n",
    "nums = np.array([10, 20, 30, 40])"
   ]
  },
  {
   "cell_type": "code",
   "execution_count": 4,
   "id": "d680f9ec-149e-451d-9c5d-bfdb82888aa2",
   "metadata": {},
   "outputs": [
    {
     "name": "stdout",
     "output_type": "stream",
     "text": [
      "[20 40 60 80]\n"
     ]
    }
   ],
   "source": [
    "nums2 = nums * 2 \n",
    "print(nums2)"
   ]
  },
  {
   "cell_type": "code",
   "execution_count": 5,
   "id": "92afe82a-6d68-4478-81ac-fccb1b64670c",
   "metadata": {},
   "outputs": [
    {
     "name": "stdout",
     "output_type": "stream",
     "text": [
      "[ 5 15 25 35]\n"
     ]
    }
   ],
   "source": [
    "nums3 = nums - 5\n",
    "print(nums3)"
   ]
  },
  {
   "cell_type": "code",
   "execution_count": 6,
   "id": "f1f376ca-1737-4f9e-bd8f-d95bb4eaf8ae",
   "metadata": {},
   "outputs": [
    {
     "name": "stdout",
     "output_type": "stream",
     "text": [
      "[[ 10   1 100]\n",
      " [ 20   2 200]\n",
      " [ 30   3 300]]\n"
     ]
    }
   ],
   "source": [
    "data = np.column_stack(([10, 20, 30], [1, 2, 3], [100, 200, 300]))\n",
    "print(data)"
   ]
  },
  {
   "cell_type": "code",
   "execution_count": null,
   "id": "1db7dc20-c35a-490b-a28a-35fc33dd6f34",
   "metadata": {},
   "outputs": [],
   "source": []
  }
 ],
 "metadata": {
  "kernelspec": {
   "display_name": "Python 3 (ipykernel)",
   "language": "python",
   "name": "python3"
  },
  "language_info": {
   "codemirror_mode": {
    "name": "ipython",
    "version": 3
   },
   "file_extension": ".py",
   "mimetype": "text/x-python",
   "name": "python",
   "nbconvert_exporter": "python",
   "pygments_lexer": "ipython3",
   "version": "3.12.7"
  }
 },
 "nbformat": 4,
 "nbformat_minor": 5
}
