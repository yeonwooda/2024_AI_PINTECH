{
 "cells": [
  {
   "cell_type": "code",
   "execution_count": 2,
   "id": "9c839292-c8c8-420d-a274-9b99885d4f48",
   "metadata": {},
   "outputs": [],
   "source": [
    "import numpy as np"
   ]
  },
  {
   "cell_type": "code",
   "execution_count": 3,
   "id": "a0c55ccf-3a28-499e-a728-64ea810efd76",
   "metadata": {},
   "outputs": [
    {
     "name": "stdout",
     "output_type": "stream",
     "text": [
      "[1 2 3 4]\n"
     ]
    }
   ],
   "source": [
    "nums = np.array([1, 2, 3, 4]) \n",
    "print(nums) # 1차원 배열"
   ]
  },
  {
   "cell_type": "code",
   "execution_count": 4,
   "id": "221c5885-4dea-414a-96a1-ca42c8398bc5",
   "metadata": {},
   "outputs": [
    {
     "name": "stdout",
     "output_type": "stream",
     "text": [
      "[[1 2]\n",
      " [3 4]]\n"
     ]
    }
   ],
   "source": [
    "nums2 = nums.reshape(2, 2)\n",
    "print(nums2) # 2차원 배열"
   ]
  },
  {
   "cell_type": "code",
   "execution_count": 5,
   "id": "5458e733-64b6-4f9c-bf6d-84439cf09deb",
   "metadata": {},
   "outputs": [
    {
     "name": "stdout",
     "output_type": "stream",
     "text": [
      "[[[ 1  2  3]\n",
      "  [ 4  5  6]]\n",
      "\n",
      " [[ 7  8  9]\n",
      "  [10 11 12]]]\n"
     ]
    }
   ],
   "source": [
    "nums3 = np.array([[[1, 2, 3], [4,5,6]], [[7,8,9], [10, 11, 12]]])\n",
    "print(nums3) # 3차원 배열"
   ]
  },
  {
   "cell_type": "code",
   "execution_count": null,
   "id": "7dc4ab37-b2d8-4ff1-962f-b8270d7a61a4",
   "metadata": {},
   "outputs": [],
   "source": [
    "nums4 = np.reshape(2, 6)\n",
    "print(nums4)"
   ]
  }
 ],
 "metadata": {
  "kernelspec": {
   "display_name": "Python 3 (ipykernel)",
   "language": "python",
   "name": "python3"
  },
  "language_info": {
   "codemirror_mode": {
    "name": "ipython",
    "version": 3
   },
   "file_extension": ".py",
   "mimetype": "text/x-python",
   "name": "python",
   "nbconvert_exporter": "python",
   "pygments_lexer": "ipython3",
   "version": "3.12.7"
  }
 },
 "nbformat": 4,
 "nbformat_minor": 5
}
