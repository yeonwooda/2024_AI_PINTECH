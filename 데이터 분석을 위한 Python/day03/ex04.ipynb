{
 "cells": [
  {
   "cell_type": "code",
   "execution_count": 3,
   "id": "6f04a84c-cfcb-4d4d-898f-eb393d193253",
   "metadata": {},
   "outputs": [],
   "source": [
    "def add(a, b):\n",
    "    return a + b"
   ]
  },
  {
   "cell_type": "code",
   "execution_count": 4,
   "id": "4c83b659-a705-4890-aa8a-036fe913d91d",
   "metadata": {},
   "outputs": [
    {
     "data": {
      "text/plain": [
       "30"
      ]
     },
     "execution_count": 4,
     "metadata": {},
     "output_type": "execute_result"
    }
   ],
   "source": [
    "add(10, 20)"
   ]
  },
  {
   "cell_type": "code",
   "execution_count": 5,
   "id": "4f077fc0-2a94-4b7b-800e-ace1f0e84698",
   "metadata": {},
   "outputs": [],
   "source": [
    "def sub(a, b):\n",
    "    pass"
   ]
  },
  {
   "cell_type": "code",
   "execution_count": 7,
   "id": "f6d28982-0c0a-4893-a39a-960300d1c135",
   "metadata": {},
   "outputs": [],
   "source": [
    "def calc(a, b):\n",
    "    return (a + b, a - b, a * b, a / b) # 괄호가 없으면 그냥 튜플인지 알수도\n",
    "# 반환값 4개가 아니라 튜플 1개임;;;"
   ]
  },
  {
   "cell_type": "code",
   "execution_count": 10,
   "id": "15b95adf-6863-499b-aed0-2570a3b81096",
   "metadata": {},
   "outputs": [
    {
     "name": "stdout",
     "output_type": "stream",
     "text": [
      "(15, 5, 50, 2.0)\n"
     ]
    },
    {
     "data": {
      "text/plain": [
       "tuple"
      ]
     },
     "execution_count": 10,
     "metadata": {},
     "output_type": "execute_result"
    }
   ],
   "source": [
    "result = calc(10, 5)\n",
    "print(result)\n",
    "type(result)"
   ]
  },
  {
   "cell_type": "code",
   "execution_count": 11,
   "id": "066317f5-87d2-49bc-8a83-70f23eea6a2a",
   "metadata": {},
   "outputs": [
    {
     "name": "stdout",
     "output_type": "stream",
     "text": [
      "15 5 50 2.0\n"
     ]
    }
   ],
   "source": [
    "r1, r2, r3, r4 = calc(10, 5)\n",
    "print(r1, r2, r3, r4)"
   ]
  },
  {
   "cell_type": "code",
   "execution_count": 19,
   "id": "35bc83ed-0826-4840-ac75-a1587b8757f5",
   "metadata": {},
   "outputs": [],
   "source": [
    "def sum(*params):\n",
    "    print(\"num:\", num, \"params:e\", params)\n",
    "    total = 0\n",
    "    for i in params:\n",
    "        total += i\n",
    "\n",
    "    return total"
   ]
  },
  {
   "cell_type": "code",
   "execution_count": 20,
   "id": "b0433c1a-ab38-4736-a1bd-ec626f29f9e1",
   "metadata": {},
   "outputs": [
    {
     "data": {
      "text/plain": [
       "100"
      ]
     },
     "execution_count": 20,
     "metadata": {},
     "output_type": "execute_result"
    }
   ],
   "source": [
    "sum(10, 20, 30, 40)"
   ]
  },
  {
   "cell_type": "code",
   "execution_count": 21,
   "id": "b0a3d2a6-8a49-4133-aaf4-058c28270d6d",
   "metadata": {},
   "outputs": [],
   "source": [
    "def add(a, b):\n",
    "    return a + b"
   ]
  },
  {
   "cell_type": "code",
   "execution_count": 22,
   "id": "6270ec39-405f-4410-ad91-e1f79884eb60",
   "metadata": {},
   "outputs": [
    {
     "data": {
      "text/plain": [
       "30"
      ]
     },
     "execution_count": 22,
     "metadata": {},
     "output_type": "execute_result"
    }
   ],
   "source": [
    "add(10, 20) # a = 10, b = 20"
   ]
  },
  {
   "cell_type": "code",
   "execution_count": 23,
   "id": "2982ae7b-8916-4037-b312-0565ffa0810e",
   "metadata": {},
   "outputs": [
    {
     "data": {
      "text/plain": [
       "30"
      ]
     },
     "execution_count": 23,
     "metadata": {},
     "output_type": "execute_result"
    }
   ],
   "source": [
    "add(b=20, a = 10)"
   ]
  },
  {
   "cell_type": "code",
   "execution_count": 24,
   "id": "2a8c956c-c440-4d17-b6ca-14c61fa5e113",
   "metadata": {},
   "outputs": [],
   "source": [
    "def words(**params):\n",
    "    print(params)"
   ]
  },
  {
   "cell_type": "code",
   "execution_count": 25,
   "id": "d4815d15-d73a-422f-975f-184332a9b9be",
   "metadata": {},
   "outputs": [
    {
     "name": "stdout",
     "output_type": "stream",
     "text": [
      "{'name': '이이름', 'age': 40, 'address': '주소'}\n"
     ]
    }
   ],
   "source": [
    "words(name=\"이이름\", age=40, address=\"주소\")"
   ]
  },
  {
   "cell_type": "code",
   "execution_count": 27,
   "id": "9999533e-7695-4eaa-95a1-40ee98c7bce2",
   "metadata": {},
   "outputs": [],
   "source": [
    "def get_number(num): \n",
    "    if num % 10 == 0: \n",
    "        print(\"종료\")\n",
    "        return # 함수의 종료, 이 후 코드는 실행 x\n",
    "\n",
    "    print(num)"
   ]
  },
  {
   "cell_type": "code",
   "execution_count": 28,
   "id": "c42160e1-5555-4f78-8844-f0525cca4c32",
   "metadata": {},
   "outputs": [
    {
     "name": "stdout",
     "output_type": "stream",
     "text": [
      "11\n"
     ]
    }
   ],
   "source": [
    "get_number(11)"
   ]
  },
  {
   "cell_type": "code",
   "execution_count": 30,
   "id": "982b4a73-d3c4-4575-a249-0ebc6b55a22c",
   "metadata": {},
   "outputs": [],
   "source": [
    "def sum(a, b, c = 100): # 기본값은 항상 마지막 매개변수 부터 차례대로 설정\n",
    "    return a + b + c"
   ]
  },
  {
   "cell_type": "code",
   "execution_count": 31,
   "id": "16525a8a-f04b-47aa-8068-88b05d6cc908",
   "metadata": {},
   "outputs": [
    {
     "data": {
      "text/plain": [
       "130"
      ]
     },
     "execution_count": 31,
     "metadata": {},
     "output_type": "execute_result"
    }
   ],
   "source": [
    "sum(10, 20)"
   ]
  },
  {
   "cell_type": "code",
   "execution_count": 32,
   "id": "74c842b2-5e54-4db8-a3cf-64a5af699c1a",
   "metadata": {},
   "outputs": [
    {
     "ename": "SyntaxError",
     "evalue": "parameter without a default follows parameter with a default (339554181.py, line 1)",
     "output_type": "error",
     "traceback": [
      "\u001b[1;36m  Cell \u001b[1;32mIn[32], line 1\u001b[1;36m\u001b[0m\n\u001b[1;33m    def sum2(a, b = 100, c):\u001b[0m\n\u001b[1;37m                         ^\u001b[0m\n\u001b[1;31mSyntaxError\u001b[0m\u001b[1;31m:\u001b[0m parameter without a default follows parameter with a default\n"
     ]
    }
   ],
   "source": [
    "def sum2(a, b = 100, c):\n",
    "    return a + b + c"
   ]
  },
  {
   "cell_type": "code",
   "execution_count": 33,
   "id": "79fb1ddf-191a-4fb9-a618-b68907aebe26",
   "metadata": {},
   "outputs": [],
   "source": [
    "name = \"이이름\"\n",
    "\n",
    "def message(msg):\n",
    "    global name # 전역변수 name을 message 함수 지역내에서 사용\n",
    "    \n",
    "    print(f\"{name}님 {msg}\")"
   ]
  },
  {
   "cell_type": "code",
   "execution_count": 36,
   "id": "a73a7ce5-c1b2-4572-9367-f5acb635a130",
   "metadata": {},
   "outputs": [
    {
     "name": "stdout",
     "output_type": "stream",
     "text": [
      "[2, 4, 6, 8, 10]\n"
     ]
    }
   ],
   "source": [
    "nums = [1, 2, 3, 4, 5, 6, 7, 8, 9, 10]\n",
    "\n",
    "def is_even(num): # 짝수 판별 함수 - 사용자 정의 함수, 일회용으로 사용하는\n",
    "    #는 경우가 많어\n",
    "    return num % 2 == 0\n",
    "\n",
    "even = filter(is_even, nums)\n",
    "even_nums = list(even)\n",
    "print(even_nums)"
   ]
  },
  {
   "cell_type": "code",
   "execution_count": 37,
   "id": "250223dc-65f2-4862-a4f6-846d728760f2",
   "metadata": {},
   "outputs": [
    {
     "name": "stdout",
     "output_type": "stream",
     "text": [
      "[2, 4, 6, 8, 10]\n"
     ]
    }
   ],
   "source": [
    "nums = [1, 2, 3, 4, 5, 6, 7, 8, 9, 10]\n",
    "is_even = lambda x : x % 2 == 0\n",
    "even = list(filter(is_even, nums))\n",
    "print(even)"
   ]
  },
  {
   "cell_type": "code",
   "execution_count": 38,
   "id": "b2f862e6-428a-4685-90c4-50a51cf436e1",
   "metadata": {},
   "outputs": [
    {
     "name": "stdout",
     "output_type": "stream",
     "text": [
      "[2, 4, 6, 8, 10]\n"
     ]
    }
   ],
   "source": [
    "nums = [1, 2, 3, 4, 5, 6, 7, 8, 9, 10]\n",
    "even = list(filter(lambda x : x % 2 == 0, nums))\n",
    "print(even)"
   ]
  }
 ],
 "metadata": {
  "kernelspec": {
   "display_name": "Python 3 (ipykernel)",
   "language": "python",
   "name": "python3"
  },
  "language_info": {
   "codemirror_mode": {
    "name": "ipython",
    "version": 3
   },
   "file_extension": ".py",
   "mimetype": "text/x-python",
   "name": "python",
   "nbconvert_exporter": "python",
   "pygments_lexer": "ipython3",
   "version": "3.12.7"
  }
 },
 "nbformat": 4,
 "nbformat_minor": 5
}
