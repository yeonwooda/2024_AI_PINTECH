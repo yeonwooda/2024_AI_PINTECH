{
 "cells": [
  {
   "cell_type": "code",
   "execution_count": 1,
   "id": "eb9e63bd-56f2-4afb-89df-ec517fadbca6",
   "metadata": {},
   "outputs": [
    {
     "name": "stdout",
     "output_type": "stream",
     "text": [
      "합계: 2500\n"
     ]
    }
   ],
   "source": [
    "total = 0\n",
    "num = 1\n",
    "\n",
    "while num <= 100:\n",
    "    if num == 50:\n",
    "        break # 반복 멈추기\n",
    "    if num % 2 == 0:\n",
    "        num += 1\n",
    "        continue # 현재 반복을 중단하고 새로 반복 시작(반복 건너뛰기)\n",
    "        \n",
    "    total += num\n",
    "    # num++  파이썬은 증감 연산자 사용 불가\n",
    "    num += 1\n",
    "\n",
    "print(\"합계:\", total)"
   ]
  },
  {
   "cell_type": "code",
   "execution_count": null,
   "id": "cbeeaaac-363f-411b-8330-8001933f90f2",
   "metadata": {},
   "outputs": [],
   "source": []
  }
 ],
 "metadata": {
  "kernelspec": {
   "display_name": "Python 3 (ipykernel)",
   "language": "python",
   "name": "python3"
  },
  "language_info": {
   "codemirror_mode": {
    "name": "ipython",
    "version": 3
   },
   "file_extension": ".py",
   "mimetype": "text/x-python",
   "name": "python",
   "nbconvert_exporter": "python",
   "pygments_lexer": "ipython3",
   "version": "3.12.7"
  }
 },
 "nbformat": 4,
 "nbformat_minor": 5
}
