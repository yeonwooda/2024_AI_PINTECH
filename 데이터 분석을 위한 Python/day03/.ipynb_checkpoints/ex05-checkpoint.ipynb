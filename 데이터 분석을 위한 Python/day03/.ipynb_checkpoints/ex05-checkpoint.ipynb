{
 "cells": [
  {
   "cell_type": "code",
   "execution_count": 1,
   "id": "c57ee4bc-155e-443e-aa73-f070eebc6e0d",
   "metadata": {},
   "outputs": [
    {
     "name": "stdout",
     "output_type": "stream",
     "text": [
      "ABCDEFGHI\n"
     ]
    }
   ],
   "source": [
    "print(\"ABC\" + \"DEF\" + \"GHI\") # 문자열 결합, 연산자, 문자열끼리만 가능"
   ]
  },
  {
   "cell_type": "code",
   "execution_count": 2,
   "id": "d46790b0-560e-44e9-91ac-0d991752e8c5",
   "metadata": {},
   "outputs": [
    {
     "name": "stdout",
     "output_type": "stream",
     "text": [
      "ABCDEFGHI\n"
     ]
    }
   ],
   "source": [
    "print(\"ABC\"  \"DEF\"  \"GHI\") # 문자열 결합, + 연산자를 사용하지 않아도\n",
    "#결합해서 출력"
   ]
  },
  {
   "cell_type": "code",
   "execution_count": 3,
   "id": "e3c62fbc-132a-4160-ba17-5d0a0c7884be",
   "metadata": {},
   "outputs": [
    {
     "name": "stdout",
     "output_type": "stream",
     "text": [
      "ABC DEF GHI\n"
     ]
    }
   ],
   "source": [
    "print(\"ABC\",  \"DEF\", \"GHI\") # 문자열을 공백으로 띄어서 결합"
   ]
  },
  {
   "cell_type": "code",
   "execution_count": 5,
   "id": "e2ea21ce-2f84-4980-8ea6-bafddd22551a",
   "metadata": {},
   "outputs": [
    {
     "name": "stdout",
     "output_type": "stream",
     "text": [
      "ABC#DEF\n",
      "GHI\n"
     ]
    }
   ],
   "source": [
    "print(\"ABC\", end=\"#\") # end : 기본값이 \\n -> \"ABC\\n\"\n",
    "print(\"DEF\")\n",
    "print(\"GHI\")"
   ]
  }
 ],
 "metadata": {
  "kernelspec": {
   "display_name": "Python 3 (ipykernel)",
   "language": "python",
   "name": "python3"
  },
  "language_info": {
   "codemirror_mode": {
    "name": "ipython",
    "version": 3
   },
   "file_extension": ".py",
   "mimetype": "text/x-python",
   "name": "python",
   "nbconvert_exporter": "python",
   "pygments_lexer": "ipython3",
   "version": "3.12.7"
  }
 },
 "nbformat": 4,
 "nbformat_minor": 5
}
