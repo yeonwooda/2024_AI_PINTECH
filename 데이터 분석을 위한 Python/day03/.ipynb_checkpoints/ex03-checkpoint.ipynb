{
 "cells": [
  {
   "cell_type": "code",
   "execution_count": 6,
   "id": "bb7709c0-a271-42db-984d-f8a3cfef0e71",
   "metadata": {},
   "outputs": [
    {
     "name": "stdout",
     "output_type": "stream",
     "text": [
      "사과 apple\n",
      "오렌지 orange\n",
      "멜론 melon\n",
      "망고 mango\n"
     ]
    }
   ],
   "source": [
    "fruits = [(\"사과\", \"apple\"), (\"오렌지\", \"orange\"), (\"멜론\", \"melon\"), \n",
    "          (\"망고\", \"mango\") ]\n",
    "\n",
    "for title, item in fruits:\n",
    "    print(title, item)\n",
    "\n",
    "#for (title, item) in fruits:\n",
    "   # print(title, item)\n",
    "\n",
    "\n",
    "# for item in fruits:\n",
    "  #  print(item)"
   ]
  },
  {
   "cell_type": "code",
   "execution_count": 3,
   "id": "2d682f31-3998-4591-bb71-e04c80caec8b",
   "metadata": {},
   "outputs": [
    {
     "name": "stdout",
     "output_type": "stream",
     "text": [
      "A\n",
      "B\n",
      "C\n"
     ]
    }
   ],
   "source": [
    "for item in \"ABC\":\n",
    "    print(item)"
   ]
  },
  {
   "cell_type": "code",
   "execution_count": 8,
   "id": "9982f32c-cebe-4039-a486-e26f1c4dd79b",
   "metadata": {},
   "outputs": [
    {
     "ename": "NameError",
     "evalue": "name 'pritn' is not defined",
     "output_type": "error",
     "traceback": [
      "\u001b[1;31m---------------------------------------------------------------------------\u001b[0m",
      "\u001b[1;31mNameError\u001b[0m                                 Traceback (most recent call last)",
      "Cell \u001b[1;32mIn[8], line 5\u001b[0m\n\u001b[0;32m      1\u001b[0m \u001b[38;5;66;03m#for i in range(10): # 0 ~ 9\u001b[39;00m\n\u001b[0;32m      2\u001b[0m \u001b[38;5;66;03m#    print(i, \"반복\")\u001b[39;00m\n\u001b[0;32m      4\u001b[0m \u001b[38;5;28;01mfor\u001b[39;00m i \u001b[38;5;129;01min\u001b[39;00m \u001b[38;5;28mrange\u001b[39m(\u001b[38;5;241m1\u001b[39m, \u001b[38;5;241m11\u001b[39m): \u001b[38;5;66;03m# 1 ~ 10\u001b[39;00m\n\u001b[1;32m----> 5\u001b[0m     \u001b[43mpritn\u001b[49m(i, \u001b[38;5;124m\"\u001b[39m\u001b[38;5;124m반복\u001b[39m\u001b[38;5;124m\"\u001b[39m)\n",
      "\u001b[1;31mNameError\u001b[0m: name 'pritn' is not defined"
     ]
    }
   ],
   "source": [
    "#for i in range(10): # 0 ~ 9\n",
    "#    print(i, \"반복\")\n",
    "\n",
    "for i in range(1, 11): # 1 ~ 1\n",
    "    print(i, \"반복\")\n"
   ]
  },
  {
   "cell_type": "code",
   "execution_count": null,
   "id": "ca76bafe-ec64-4c32-9c54-af82398d2270",
   "metadata": {},
   "outputs": [],
   "source": []
  }
 ],
 "metadata": {
  "kernelspec": {
   "display_name": "Python 3 (ipykernel)",
   "language": "python",
   "name": "python3"
  },
  "language_info": {
   "codemirror_mode": {
    "name": "ipython",
    "version": 3
   },
   "file_extension": ".py",
   "mimetype": "text/x-python",
   "name": "python",
   "nbconvert_exporter": "python",
   "pygments_lexer": "ipython3",
   "version": "3.12.7"
  }
 },
 "nbformat": 4,
 "nbformat_minor": 5
}
