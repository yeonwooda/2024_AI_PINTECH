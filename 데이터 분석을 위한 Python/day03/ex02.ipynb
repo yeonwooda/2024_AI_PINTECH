{
 "cells": [
  {
   "cell_type": "code",
   "execution_count": 2,
   "id": "eb9e63bd-56f2-4afb-89df-ec517fadbca6",
   "metadata": {},
   "outputs": [
    {
     "name": "stdout",
     "output_type": "stream",
     "text": [
      "합계: 625\n"
     ]
    }
   ],
   "source": [
    "total = 0\n",
    "num = 1\n",
    "\n",
    "while num <= 100:\n",
    "    if num == 50:\n",
    "        break # 반복 멈추기\n",
    "        \n",
    "    if num % 2 == 0:\n",
    "        num += 1\n",
    "        continue # 현재 반복을 중단하고 새로 반복 시작(반복 건너뛰기)\n",
    "        \n",
    "    total += num\n",
    "    # num++  파이썬은 증감 연산자 사용 불가\n",
    "    num += 1\n",
    "\n",
    "print(\"합계:\", total)"
   ]
  },
  {
   "cell_type": "code",
   "execution_count": 3,
   "id": "cbeeaaac-363f-411b-8330-8001933f90f2",
   "metadata": {},
   "outputs": [
    {
     "name": "stdout",
     "output_type": "stream",
     "text": [
      "1번 찍었습니다.\n",
      "2번 찍었습니다.\n",
      "3번 찍었습니다.\n",
      "4번 찍었습니다.\n",
      "5번 찍었습니다.\n",
      "6번 찍었습니다.\n",
      "7번 찍었습니다.\n",
      "8번 찍었습니다.\n",
      "9번 찍었습니다.\n",
      "10번 찍었습니다.\n",
      "나무 넘어가\n"
     ]
    }
   ],
   "source": [
    "hit = 0\n",
    "while hit < 10:\n",
    "    hit = hit + 1\n",
    "    print(\"%d번 찍었습니다.\" % hit)\n",
    "    if hit == 10:\n",
    "        print(\"나무 넘어가\")"
   ]
  },
  {
   "cell_type": "code",
   "execution_count": null,
   "id": "6ca773cf-2c7e-4582-8dd7-72cde544d0b0",
   "metadata": {},
   "outputs": [],
   "source": []
  }
 ],
 "metadata": {
  "kernelspec": {
   "display_name": "Python 3 (ipykernel)",
   "language": "python",
   "name": "python3"
  },
  "language_info": {
   "codemirror_mode": {
    "name": "ipython",
    "version": 3
   },
   "file_extension": ".py",
   "mimetype": "text/x-python",
   "name": "python",
   "nbconvert_exporter": "python",
   "pygments_lexer": "ipython3",
   "version": "3.12.7"
  }
 },
 "nbformat": 4,
 "nbformat_minor": 5
}
