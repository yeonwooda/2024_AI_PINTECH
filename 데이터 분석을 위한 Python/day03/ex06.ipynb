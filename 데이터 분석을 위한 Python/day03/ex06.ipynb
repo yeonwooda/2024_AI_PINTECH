{
 "cells": [
  {
   "cell_type": "code",
   "execution_count": 3,
   "id": "7c1d0afb-9481-4fc4-9e2c-aef0f1683aa9",
   "metadata": {},
   "outputs": [],
   "source": [
    "f = open(\"D:/data.txt\",\"w\") # r, w, a, 파일이 없으면 새로 하나 생성\n",
    "\n",
    "for i in range(1, 11): # 1 ~ 10\n",
    "    f.write(\"%d번째 줄 입니다\\n\" % i) \n",
    "\n",
    "f.close()"
   ]
  },
  {
   "cell_type": "code",
   "execution_count": 4,
   "id": "ffc54092-d22d-4896-8c05-b2ea2923747a",
   "metadata": {},
   "outputs": [
    {
     "name": "stdout",
     "output_type": "stream",
     "text": [
      "1번째 줄 입니다\n",
      "2번째 줄 입니다\n",
      "3번째 줄 입니다\n",
      "4번째 줄 입니다\n",
      "5번째 줄 입니다\n",
      "6번째 줄 입니다\n",
      "7번째 줄 입니다\n",
      "8번째 줄 입니다\n",
      "9번째 줄 입니다\n",
      "10번째 줄 입니다\n",
      "\n"
     ]
    }
   ],
   "source": [
    "f = open(\"D:/data.txt\", \"r\") # 읽기\n",
    "data = f.read() # 전체 문자열 데이터 가져옴\n",
    "print(data)\n",
    "f.close()"
   ]
  },
  {
   "cell_type": "code",
   "execution_count": 5,
   "id": "00845a80-79ef-4364-93d4-232282fcaf22",
   "metadata": {},
   "outputs": [
    {
     "name": "stdout",
     "output_type": "stream",
     "text": [
      "1번째 줄 입니다\n",
      "\n",
      "2번째 줄 입니다\n",
      "\n",
      "3번째 줄 입니다\n",
      "\n",
      "4번째 줄 입니다\n",
      "\n",
      "5번째 줄 입니다\n",
      "\n",
      "6번째 줄 입니다\n",
      "\n",
      "7번째 줄 입니다\n",
      "\n",
      "8번째 줄 입니다\n",
      "\n",
      "9번째 줄 입니다\n",
      "\n",
      "10번째 줄 입니다\n",
      "\n",
      "\n"
     ]
    }
   ],
   "source": [
    "f = open(\"D:/data.txt\", \"r\")\n",
    "\n",
    "while True:\n",
    "    line = f.readline()\n",
    "    print(linem end='') # line = \\n 문자가 있고, print end 매개변수 기본값 \\n\n",
    "    if not line: break # 다 읽었을 때 빈 문자열 반환\n",
    "\n",
    "f.close()"
   ]
  }
 ],
 "metadata": {
  "kernelspec": {
   "display_name": "Python 3 (ipykernel)",
   "language": "python",
   "name": "python3"
  },
  "language_info": {
   "codemirror_mode": {
    "name": "ipython",
    "version": 3
   },
   "file_extension": ".py",
   "mimetype": "text/x-python",
   "name": "python",
   "nbconvert_exporter": "python",
   "pygments_lexer": "ipython3",
   "version": "3.12.7"
  }
 },
 "nbformat": 4,
 "nbformat_minor": 5
}
