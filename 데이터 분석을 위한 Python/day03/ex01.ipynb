{
 "cells": [
  {
   "cell_type": "code",
   "execution_count": null,
   "id": "32e02d8d-27dd-466c-add7-31a8e1d90685",
   "metadata": {},
   "outputs": [],
   "source": [
    "age = 16\n",
    "\n",
    "if age < 8:\n",
    "    print(\"유치원\")\n",
    "elif age < 14:\n",
    "    print(\"초등학생\")\n",
    "elif age < 17:\n",
    "    print(\"중학생\")\n",
    "elif age < 20:\n",
    "    print(\"고등학생\")\n",
    "else: \n",
    "    print(\"성인\")"
   ]
  },
  {
   "cell_type": "code",
   "execution_count": null,
   "id": "fed81e55-098f-4d16-9f22-a21c3972512b",
   "metadata": {},
   "outputs": [],
   "source": [
    "fruits = ['사과', '오렌지', '멜론']\n",
    "\n",
    "if '사과' in fruits: # 사과가 포함되어있는지 체크\n",
    "    print(\"사과가 있습니다.\")\n",
    "else : \n",
    "    print(\"사과가 없습니다.\")"
   ]
  },
  {
   "cell_type": "code",
   "execution_count": null,
   "id": "8984ebb7-6204-4e47-b4f7-7d7671dc4e44",
   "metadata": {},
   "outputs": [],
   "source": [
    "fruits = ['사과', '오렌지', '멜론']\n",
    "\n",
    "if '망고' not in fruits: # 망고가 포함 되어있지 않는지 체크\n",
    "    print(\"망고가 없습니다.\")\n",
    "else : \n",
    "    print(\"망고가 있습니다.\")"
   ]
  },
  {
   "cell_type": "code",
   "execution_count": null,
   "id": "f48a5819-f60a-470d-8243-16c9598254ac",
   "metadata": {},
   "outputs": [],
   "source": [
    "num = 10\n",
    "if num > 5 and num < 20:\n",
    "    pass # 아무것도 안함"
   ]
  },
  {
   "cell_type": "code",
   "execution_count": null,
   "id": "161099cf-4553-463f-8b78-83d057b08ea3",
   "metadata": {},
   "outputs": [],
   "source": [
    "if num > 5 and num < 20: pass"
   ]
  },
  {
   "cell_type": "code",
   "execution_count": 8,
   "id": "4f9d8b76-c0b7-4f95-ba38-62dc9eb7cf83",
   "metadata": {},
   "outputs": [
    {
     "name": "stdout",
     "output_type": "stream",
     "text": [
      "합격\n"
     ]
    }
   ],
   "source": [
    "score = 60\n",
    "result = \"합격\" if score >= 60 else \"불합격\" # 조건부 표현식\n",
    "print(result)"
   ]
  },
  {
   "cell_type": "code",
   "execution_count": null,
   "id": "ae1d4dfa-0dd1-4806-bd57-6ca54bac4612",
   "metadata": {},
   "outputs": [],
   "source": []
  }
 ],
 "metadata": {
  "kernelspec": {
   "display_name": "Python 3 (ipykernel)",
   "language": "python",
   "name": "python3"
  },
  "language_info": {
   "codemirror_mode": {
    "name": "ipython",
    "version": 3
   },
   "file_extension": ".py",
   "mimetype": "text/x-python",
   "name": "python",
   "nbconvert_exporter": "python",
   "pygments_lexer": "ipython3",
   "version": "3.12.7"
  }
 },
 "nbformat": 4,
 "nbformat_minor": 5
}
