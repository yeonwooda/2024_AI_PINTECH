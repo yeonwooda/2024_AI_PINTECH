{
 "cells": [
  {
   "cell_type": "code",
   "execution_count": 2,
   "id": "2254adb2-7767-4865-b8d5-a46b146e7acc",
   "metadata": {},
   "outputs": [
    {
     "name": "stdout",
     "output_type": "stream",
     "text": [
      "예외발생\n",
      "매우 중요한 코드! 꼭 실행되어야 함\n"
     ]
    }
   ],
   "source": [
    "try : # 예외가 발생할 가능성이 있는 코드 구간\n",
    "    num1 = 10\n",
    "    num2 = 0\n",
    "    result = num1/ num2\n",
    "    print(result)\n",
    "except: # 예외에 대한 처리 구간\n",
    "    print(\"예외발생\")\n",
    "\n",
    "\n",
    "print(\"매우 중요한 코드! 꼭 실행되어야 함\")"
   ]
  },
  {
   "cell_type": "code",
   "execution_count": 29,
   "id": "c8d056f9-529d-4c1b-a9cb-41fdf5e5552c",
   "metadata": {},
   "outputs": [
    {
     "ename": "IndentationError",
     "evalue": "unindent does not match any outer indentation level (<string>, line 19)",
     "output_type": "error",
     "traceback": [
      "\u001b[1;36m  File \u001b[1;32m<string>:19\u001b[1;36m\u001b[0m\n\u001b[1;33m    print(traceback.format_exc())\u001b[0m\n\u001b[1;37m                                 ^\u001b[0m\n\u001b[1;31mIndentationError\u001b[0m\u001b[1;31m:\u001b[0m unindent does not match any outer indentation level\n"
     ]
    }
   ],
   "source": [
    "import traceback\n",
    "try : # 예외가 발생할 가능성이 있는 코드 구간\n",
    "    num1 = 10\n",
    "    # num2 = 0\n",
    "    num2 = 2\n",
    "    result = num1/ num2\n",
    "    print(result)\n",
    "\n",
    "    fruits = ['사과', '멜론', '오렌지']\n",
    "    pos = fruits.index('망고')\n",
    "    print(pos)\n",
    "except ZeroDivisionError as e: # 예외에 대한 처리 구간, e : 발생한 예외 객체 참조변수\n",
    "    #print(\"예외 발생\")\n",
    "    print(e) # __str__ 호출\n",
    "    print(traceback.format_exc()) # 예외발생에 대한 자세한 정보확인\n",
    "except ValueError as e: # fruits에 대한 예외 처리\n",
    "   # print(\"예외 발생\")\n",
    "     print(e)\n",
    "    print(traceback.format_exc())\n",
    "\n",
    "print(\"매우 중요한 코드! 꼭 실행되어야 함\")"
   ]
  },
  {
   "cell_type": "code",
   "execution_count": 27,
   "id": "ca90b30f-d9c1-4efa-b5b6-41b6083d0235",
   "metadata": {},
   "outputs": [
    {
     "name": "stdout",
     "output_type": "stream",
     "text": [
      "5.0\n",
      "매우 중요한 코드! 꼭 실행되어야 함\n"
     ]
    }
   ],
   "source": [
    "try : # 예외가 발생할 가능성이 있는 코드 구간\n",
    "    num1 = 10\n",
    "    # num2 = 0\n",
    "    num2 = 2\n",
    "    result = num1/ num2\n",
    "    print(result)\n",
    "\n",
    "    fruits = ['사과', '멜론', '오렌지']\n",
    "    pos = fruits.index('망고')\n",
    "    print(pos)\n",
    "except (ZeroDivisionError, ValueError): # 튜플로 다중예외 처리 \n",
    "    pass # 예외 처리 안하겠다, 아무것도 안하겠다\n",
    "    # print(\"예외 발생\")\n",
    "\n",
    "\n",
    "print(\"매우 중요한 코드! 꼭 실행되어야 함\")"
   ]
  },
  {
   "cell_type": "code",
   "execution_count": 26,
   "id": "ba4b3a1d-6a55-4803-b155-8fb68bbb5963",
   "metadata": {},
   "outputs": [
    {
     "name": "stdout",
     "output_type": "stream",
     "text": [
      "5.0\n",
      "잘 처리됨\n",
      "매우 중요한 코드! 꼭 실행되어야 함\n"
     ]
    }
   ],
   "source": [
    "try : # 예외가 발생할 가능성이 있는 코드 구간\n",
    "    num1 = 10\n",
    "    # num2 = 0\n",
    "    num2 = 2\n",
    "    result = num1/ num2\n",
    "    print(result)\n",
    "\n",
    "    fruits = ['사과', '멜론', '오렌지']\n",
    "    #pos = fruits.index('망고') - 못 찾으면 예외 발생\n",
    "    #pos = fruits.fine(\"망고\") # 못 찾으면 -1 반환\n",
    "    #print(pos)\n",
    "except Exception:# 다형성, 예외가 발생하면 실행\n",
    "    print(\"예외 발생\")\n",
    "else: # 예외가 발생하지 않으면 실행되는 구간\n",
    "    print(\"잘 처리됨\")\n",
    "\n",
    "print(\"매우 중요한 코드! 꼭 실행되어야 함\")"
   ]
  },
  {
   "cell_type": "code",
   "execution_count": 16,
   "id": "c27ff23f-ad25-40ee-b3d8-5335cb53bd88",
   "metadata": {},
   "outputs": [],
   "source": [
    "def add(a, b):\n",
    "    return a + b # return 하면 함수는 종료! \n",
    "    print(\"실행!\")"
   ]
  },
  {
   "cell_type": "code",
   "execution_count": 17,
   "id": "c7ecdbfe-ca9d-4fae-87c7-5ba802aa0a44",
   "metadata": {},
   "outputs": [
    {
     "data": {
      "text/plain": [
       "30"
      ]
     },
     "execution_count": 17,
     "metadata": {},
     "output_type": "execute_result"
    }
   ],
   "source": [
    "add(10, 20)"
   ]
  },
  {
   "cell_type": "code",
   "execution_count": 18,
   "id": "414e5953-2b9a-42ea-8eca-8980677941d6",
   "metadata": {},
   "outputs": [],
   "source": [
    "def add(a, b):\n",
    "    try: \n",
    "        return a + b # return 하면 함수는 종료! \n",
    "    finally:\n",
    "        print(\"실행!\")"
   ]
  },
  {
   "cell_type": "code",
   "execution_count": 19,
   "id": "49cc03e7-e66d-4611-bc7c-45cbf480e28f",
   "metadata": {},
   "outputs": [
    {
     "name": "stdout",
     "output_type": "stream",
     "text": [
      "실행!\n"
     ]
    },
    {
     "data": {
      "text/plain": [
       "30"
      ]
     },
     "execution_count": 19,
     "metadata": {},
     "output_type": "execute_result"
    }
   ],
   "source": [
    "add(10,20)"
   ]
  },
  {
   "cell_type": "code",
   "execution_count": 32,
   "id": "becaed81-6b85-46ae-8384-75b8f3e2dc0a",
   "metadata": {},
   "outputs": [],
   "source": [
    "def login(user_id, user_pass):\n",
    "    if user_id != \"user01\":\n",
    "        raise Exception(\"아이디가 일치하지 않습니다\")\n",
    "\n",
    "    if user_pass != \"1234\":\n",
    "        raise Exception(\"비밀번호가 일치하지 않습니다!\")\n",
    "\n",
    "    print(\"로그인 성공\")"
   ]
  },
  {
   "cell_type": "code",
   "execution_count": 33,
   "id": "2dc2a428-a125-437a-afec-3c6cc776ae35",
   "metadata": {},
   "outputs": [
    {
     "name": "stdout",
     "output_type": "stream",
     "text": [
      "로그인 성공\n"
     ]
    }
   ],
   "source": [
    "login(\"user01\", \"1234\")"
   ]
  },
  {
   "cell_type": "code",
   "execution_count": 67,
   "id": "dfe259d0-6d96-42e2-b545-7d4cb1807c8f",
   "metadata": {},
   "outputs": [],
   "source": [
    "class UserIdException(Exception): # Exceptioin 클래스를 상속 받으면 예외 클래스가 된다\n",
    "    def __init__(self, message):\n",
    "        self.message = message\n",
    "        \n",
    "    def __str__(self):\n",
    "        return self.message\n",
    "        \n",
    "class UserPassException(Exception):\n",
    "    def __init__(self, message):\n",
    "        self.message = message\n",
    "        \n",
    "    def __str__(self):\n",
    "        return self.message"
   ]
  },
  {
   "cell_type": "code",
   "execution_count": 68,
   "id": "c96334e2-07e5-452e-9378-6cefa325eeed",
   "metadata": {},
   "outputs": [],
   "source": [
    "def login(user_id, user_passs):\n",
    "    if user_id != 'user01':\n",
    "        raise UserIdException(\"아이디가 일치하지 않습니다\")\n",
    "    if user_pass != '1234':\n",
    "        raise UserPassException(\"비밀번호가 일치하지 않습니다\")\n",
    "\n",
    "    print(\"로그인 성공\")"
   ]
  },
  {
   "cell_type": "code",
   "execution_count": 69,
   "id": "63148000-b8fe-451a-9ecd-817dbecb464e",
   "metadata": {},
   "outputs": [
    {
     "name": "stdout",
     "output_type": "stream",
     "text": [
      "아이디가 일치하지 않습니다\n",
      "Traceback (most recent call last):\n",
      "  File \"C:\\Users\\admin\\AppData\\Local\\Temp\\ipykernel_3904\\426023995.py\", line 3, in <module>\n",
      "    login('user02', '1234')\n",
      "  File \"C:\\Users\\admin\\AppData\\Local\\Temp\\ipykernel_3904\\3659698759.py\", line 3, in login\n",
      "    raise UserIdException(\"아이디가 일치하지 않습니다\")\n",
      "UserIdException: 아이디가 일치하지 않습니다\n",
      "\n"
     ]
    }
   ],
   "source": [
    "import traceback\n",
    "try:\n",
    "    login('user02', '1234')\n",
    "except (UserIdException, UserPassException) as e: \n",
    "    print(e) # __str__ 호출\n",
    "    print(traceback.format_exc())"
   ]
  },
  {
   "cell_type": "code",
   "execution_count": 70,
   "id": "ca998e19-6684-480e-b394-9ae9701f2a90",
   "metadata": {},
   "outputs": [
    {
     "name": "stdout",
     "output_type": "stream",
     "text": [
      "2024.11.21\n"
     ]
    }
   ],
   "source": [
    "import time \n",
    "today = time.localtime(time.time())\n",
    "strDate = time.strftime(\"%Y.%m.%d\", today)\n",
    "print(strDate)"
   ]
  },
  {
   "cell_type": "code",
   "execution_count": 76,
   "id": "e2ff9a5b-ffce-418a-b70f-4f0da139fa07",
   "metadata": {},
   "outputs": [
    {
     "ename": "AttributeError",
     "evalue": "module 'os' has no attribute 'isdir'",
     "output_type": "error",
     "traceback": [
      "\u001b[1;31m---------------------------------------------------------------------------\u001b[0m",
      "\u001b[1;31mAttributeError\u001b[0m                            Traceback (most recent call last)",
      "Cell \u001b[1;32mIn[76], line 5\u001b[0m\n\u001b[0;32m      3\u001b[0m files \u001b[38;5;241m=\u001b[39m glob(\u001b[38;5;124m\"\u001b[39m\u001b[38;5;124mD:/pkg/game/*\u001b[39m\u001b[38;5;124m\"\u001b[39m)\n\u001b[0;32m      4\u001b[0m \u001b[38;5;28;01mfor\u001b[39;00m file \u001b[38;5;129;01min\u001b[39;00m files:\n\u001b[1;32m----> 5\u001b[0m     \u001b[38;5;28;01mif\u001b[39;00m \u001b[38;5;129;01mnot\u001b[39;00m \u001b[43mos\u001b[49m\u001b[38;5;241;43m.\u001b[39;49m\u001b[43misdir\u001b[49m(file):\n\u001b[0;32m      6\u001b[0m         \u001b[38;5;28mprint\u001b[39m(file)\n",
      "\u001b[1;31mAttributeError\u001b[0m: module 'os' has no attribute 'isdir'"
     ]
    }
   ],
   "source": [
    "from glob import glob\n",
    "import os\n",
    "files = glob(\"D:/pkg/game/*\")\n",
    "for file in files:\n",
    "    if not os.isdir(file):\n",
    "        print(file)"
   ]
  },
  {
   "cell_type": "code",
   "execution_count": 77,
   "id": "c3efdf2c-c032-465b-9184-8fc450b1bf76",
   "metadata": {},
   "outputs": [],
   "source": [
    "import datetime\n",
    "day1 = datetime.date(2021, 12, 14)\n",
    "day2 = datetime.date(2023, 4, 5)"
   ]
  },
  {
   "cell_type": "code",
   "execution_count": 78,
   "id": "cc11666f-e233-4890-9ec8-51f13cc22e3c",
   "metadata": {},
   "outputs": [
    {
     "data": {
      "text/plain": [
       "477"
      ]
     },
     "execution_count": 78,
     "metadata": {},
     "output_type": "execute_result"
    }
   ],
   "source": [
    "diff = day2 - day1\n",
    "diff.days"
   ]
  },
  {
   "cell_type": "code",
   "execution_count": 79,
   "id": "7d433f21-994f-4ce7-8d86-4f369307e7f2",
   "metadata": {},
   "outputs": [
    {
     "data": {
      "text/plain": [
       "1"
      ]
     },
     "execution_count": 79,
     "metadata": {},
     "output_type": "execute_result"
    }
   ],
   "source": [
    "day = datetime.date(2021, 12, 14)\n",
    "day.weekday()"
   ]
  },
  {
   "cell_type": "code",
   "execution_count": 80,
   "id": "77121c2a-a2a3-48e1-92eb-d3c8b48e3cc6",
   "metadata": {},
   "outputs": [
    {
     "data": {
      "text/plain": [
       "2"
      ]
     },
     "execution_count": 80,
     "metadata": {},
     "output_type": "execute_result"
    }
   ],
   "source": [
    "day.isoweekday()"
   ]
  },
  {
   "cell_type": "code",
   "execution_count": 82,
   "id": "15d37ce2-fb14-4a08-a053-0bcddb1e4f6a",
   "metadata": {},
   "outputs": [
    {
     "data": {
      "text/plain": [
       "1732162242.398203"
      ]
     },
     "execution_count": 82,
     "metadata": {},
     "output_type": "execute_result"
    }
   ],
   "source": [
    "import time\n",
    "time.time()"
   ]
  },
  {
   "cell_type": "code",
   "execution_count": 84,
   "id": "11ad1d9e-83dc-4dfb-a6f5-93fee215d2f3",
   "metadata": {},
   "outputs": [
    {
     "data": {
      "text/plain": [
       "time.struct_time(tm_year=2024, tm_mon=11, tm_mday=21, tm_hour=13, tm_min=11, tm_sec=1, tm_wday=3, tm_yday=326, tm_isdst=0)"
      ]
     },
     "execution_count": 84,
     "metadata": {},
     "output_type": "execute_result"
    }
   ],
   "source": [
    "time.localtime(time.time())"
   ]
  },
  {
   "cell_type": "code",
   "execution_count": 86,
   "id": "df7ec7e3-eec0-4544-b951-d4647b12081b",
   "metadata": {},
   "outputs": [
    {
     "data": {
      "text/plain": [
       "'Thu Nov 21 13:11:58 2024'"
      ]
     },
     "execution_count": 86,
     "metadata": {},
     "output_type": "execute_result"
    }
   ],
   "source": [
    "time.asctime(time.localtime(time.time()))"
   ]
  },
  {
   "cell_type": "code",
   "execution_count": 87,
   "id": "05b40a2e-e9b8-43b2-8481-2d994b352061",
   "metadata": {},
   "outputs": [
    {
     "data": {
      "text/plain": [
       "'Thu Nov 21 13:12:06 2024'"
      ]
     },
     "execution_count": 87,
     "metadata": {},
     "output_type": "execute_result"
    }
   ],
   "source": [
    "time.ctime()"
   ]
  },
  {
   "cell_type": "code",
   "execution_count": 89,
   "id": "d56b8085-4606-4b12-a6ca-73d113029d7f",
   "metadata": {},
   "outputs": [
    {
     "data": {
      "text/plain": [
       "'11/21/24'"
      ]
     },
     "execution_count": 89,
     "metadata": {},
     "output_type": "execute_result"
    }
   ],
   "source": [
    "import time\n",
    "time.strftime(\"%x\", time.localtime(time.time()))"
   ]
  },
  {
   "cell_type": "code",
   "execution_count": 90,
   "id": "7e5c3607-2bdb-4001-95cf-8c95a8b1f8b6",
   "metadata": {},
   "outputs": [
    {
     "name": "stdout",
     "output_type": "stream",
     "text": [
      "0\n",
      "1\n",
      "2\n",
      "3\n",
      "4\n",
      "5\n",
      "6\n",
      "7\n",
      "8\n",
      "9\n"
     ]
    }
   ],
   "source": [
    "import time \n",
    "for i in range(10):\n",
    "    print(i)\n",
    "    time.sleep(1)"
   ]
  },
  {
   "cell_type": "code",
   "execution_count": 91,
   "id": "6d35914c-205d-45f4-92de-6cadfb8ab9ef",
   "metadata": {},
   "outputs": [
    {
     "data": {
      "text/plain": [
       "time.struct_time(tm_year=2024, tm_mon=11, tm_mday=21, tm_hour=13, tm_min=19, tm_sec=49, tm_wday=3, tm_yday=326, tm_isdst=0)"
      ]
     },
     "execution_count": 91,
     "metadata": {},
     "output_type": "execute_result"
    }
   ],
   "source": [
    "time.localtime()"
   ]
  },
  {
   "cell_type": "code",
   "execution_count": 92,
   "id": "772be12d-005e-41c7-a43b-d735cf31a1d4",
   "metadata": {},
   "outputs": [
    {
     "data": {
      "text/plain": [
       "'Thu Nov 21 13:20:00 2024'"
      ]
     },
     "execution_count": 92,
     "metadata": {},
     "output_type": "execute_result"
    }
   ],
   "source": [
    "time.asctime()"
   ]
  },
  {
   "cell_type": "code",
   "execution_count": 95,
   "id": "0b5e169b-0ed4-47d8-a021-352ba0d602fa",
   "metadata": {},
   "outputs": [
    {
     "data": {
      "text/plain": [
       "'Thu Nov 21 13:20:15 2024'"
      ]
     },
     "execution_count": 95,
     "metadata": {},
     "output_type": "execute_result"
    }
   ],
   "source": [
    "time.strftime('%c')"
   ]
  },
  {
   "cell_type": "code",
   "execution_count": 96,
   "id": "d6d778b8-83ee-43ad-a552-7e2b6a1b10ee",
   "metadata": {},
   "outputs": [
    {
     "data": {
      "text/plain": [
       "20"
      ]
     },
     "execution_count": 96,
     "metadata": {},
     "output_type": "execute_result"
    }
   ],
   "source": [
    "import math\n",
    "math.gcd(60, 100, 80)"
   ]
  }
 ],
 "metadata": {
  "kernelspec": {
   "display_name": "Python 3 (ipykernel)",
   "language": "python",
   "name": "python3"
  },
  "language_info": {
   "codemirror_mode": {
    "name": "ipython",
    "version": 3
   },
   "file_extension": ".py",
   "mimetype": "text/x-python",
   "name": "python",
   "nbconvert_exporter": "python",
   "pygments_lexer": "ipython3",
   "version": "3.12.7"
  }
 },
 "nbformat": 4,
 "nbformat_minor": 5
}
