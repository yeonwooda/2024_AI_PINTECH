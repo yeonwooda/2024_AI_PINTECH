{
 "cells": [
  {
   "cell_type": "code",
   "execution_count": 10,
   "id": "2d10ba19-b365-427e-b804-272f4ae50536",
   "metadata": {},
   "outputs": [],
   "source": [
    "# 이터레이터를 만드려면 iter(...)\n",
    "fruits = [\"사과\", \"오렌지\", \"망고\", \"멜론\"]\n",
    "itr = iter(fruits) # 이터레이터 객체"
   ]
  },
  {
   "cell_type": "code",
   "execution_count": 8,
   "id": "870aa1a8-b4b8-4f30-8ac6-77048cc611c5",
   "metadata": {},
   "outputs": [
    {
     "name": "stdout",
     "output_type": "stream",
     "text": [
      "사과\n",
      "오렌지\n",
      "망고\n",
      "멜론\n"
     ]
    }
   ],
   "source": [
    "while True:\n",
    "    try:\n",
    "        print(next(itr))\n",
    "    except StopIteration:\n",
    "        break"
   ]
  },
  {
   "cell_type": "code",
   "execution_count": 11,
   "id": "9206efe8-0102-427c-bd5c-de5785c2dbec",
   "metadata": {},
   "outputs": [
    {
     "name": "stdout",
     "output_type": "stream",
     "text": [
      "사과\n",
      "오렌지\n",
      "망고\n",
      "멜론\n"
     ]
    }
   ],
   "source": [
    "for fruit in itr:\n",
    "    print(fruit)"
   ]
  },
  {
   "cell_type": "code",
   "execution_count": 13,
   "id": "53eedf2e-85fd-42b7-84e0-c9a8452beb1f",
   "metadata": {},
   "outputs": [],
   "source": [
    "# 제너레이터\n",
    "def mygen():\n",
    "    yield 'A'\n",
    "    yield 'B'\n",
    "    yield 'C'\n",
    "    yield 'D'"
   ]
  },
  {
   "cell_type": "code",
   "execution_count": 14,
   "id": "b8db4bb6-a210-4b45-bf6b-eae0631c8352",
   "metadata": {},
   "outputs": [
    {
     "data": {
      "text/plain": [
       "generator"
      ]
     },
     "execution_count": 14,
     "metadata": {},
     "output_type": "execute_result"
    }
   ],
   "source": [
    "gen = mygen()\n",
    "type(gen)"
   ]
  },
  {
   "cell_type": "code",
   "execution_count": 16,
   "id": "0c12b09e-dc7f-4c67-a91d-d0ee7104f24a",
   "metadata": {},
   "outputs": [
    {
     "data": {
      "text/plain": [
       "'B'"
      ]
     },
     "execution_count": 16,
     "metadata": {},
     "output_type": "execute_result"
    }
   ],
   "source": [
    "next(gen)"
   ]
  },
  {
   "cell_type": "code",
   "execution_count": 17,
   "id": "c4b51371-ce74-4317-af16-cebb9f499597",
   "metadata": {},
   "outputs": [
    {
     "name": "stdout",
     "output_type": "stream",
     "text": [
      "A\n",
      "B\n",
      "C\n",
      "D\n"
     ]
    }
   ],
   "source": [
    "for item in mygen():\n",
    "    print(item)"
   ]
  },
  {
   "cell_type": "code",
   "execution_count": null,
   "id": "d2436d2e-2174-4eb5-8a18-f8f3a503a5cb",
   "metadata": {},
   "outputs": [],
   "source": []
  }
 ],
 "metadata": {
  "kernelspec": {
   "display_name": "Python 3 (ipykernel)",
   "language": "python",
   "name": "python3"
  },
  "language_info": {
   "codemirror_mode": {
    "name": "ipython",
    "version": 3
   },
   "file_extension": ".py",
   "mimetype": "text/x-python",
   "name": "python",
   "nbconvert_exporter": "python",
   "pygments_lexer": "ipython3",
   "version": "3.12.7"
  }
 },
 "nbformat": 4,
 "nbformat_minor": 5
}
