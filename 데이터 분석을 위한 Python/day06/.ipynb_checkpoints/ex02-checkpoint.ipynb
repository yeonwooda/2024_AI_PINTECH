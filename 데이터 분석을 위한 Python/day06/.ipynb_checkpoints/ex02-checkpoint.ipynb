{
 "cells": [
  {
   "cell_type": "code",
   "execution_count": 2,
   "id": "3689db52-ad98-4041-99fa-7ae693a62999",
   "metadata": {},
   "outputs": [
    {
     "name": "stdout",
     "output_type": "stream",
     "text": [
      "\n",
      "park 800905-*******\n",
      "kim  700905-*******\n",
      "\n"
     ]
    }
   ],
   "source": [
    "import re\n",
    "\n",
    "data = \"\"\"\n",
    "park 800905-1049118\n",
    "kim  700905-1059119\n",
    "\"\"\"\n",
    "\n",
    "p = re.compile(\"(\\\\d{6})[-]\\\\d{7}\")\n",
    "print(p.sub(\"\\\\g<1>-*******\", data))"
   ]
  },
  {
   "cell_type": "code",
   "execution_count": 4,
   "id": "87185f89-47ca-47f8-b3e0-fe80e647b94a",
   "metadata": {},
   "outputs": [
    {
     "data": {
      "text/plain": [
       "<re.Match object; span=(0, 1), match='a'>"
      ]
     },
     "execution_count": 4,
     "metadata": {},
     "output_type": "execute_result"
    }
   ],
   "source": [
    "p = re.compile(\"[abc]\") # a, b, c, 각각 패턴 체크\n",
    "p.match(\"a1234b\") # match는 패턴을 첫 문자부터 체크"
   ]
  },
  {
   "cell_type": "code",
   "execution_count": 9,
   "id": "5a22703c-0ed9-4ad2-afe7-c20caacd439a",
   "metadata": {},
   "outputs": [
    {
     "data": {
      "text/plain": [
       "<re.Match object; span=(0, 1), match='A'>"
      ]
     },
     "execution_count": 9,
     "metadata": {},
     "output_type": "execute_result"
    }
   ],
   "source": [
    "# 체크하는 문자열이 알파벳으로 구성되어 있는지 체크\n",
    "p = re.compile(\"[a-zA-Z0-9]\") # 알파벳 a ~ z\n",
    "# p.match(\"abcdefg1234\")\n",
    "p.match(\"ABC1234\") # 대문자를 매칭하면 "
   ]
  },
  {
   "cell_type": "code",
   "execution_count": 11,
   "id": "1e3e1322-340a-4c53-8bea-56fa103dca26",
   "metadata": {},
   "outputs": [
    {
     "data": {
      "text/plain": [
       "<re.Match object; span=(0, 1), match='1'>"
      ]
     },
     "execution_count": 11,
     "metadata": {},
     "output_type": "execute_result"
    }
   ],
   "source": [
    "p = re.compile(\"[0-9]\") # 숫자로 패턴이 시작하는지 알고싶은 경우\n",
    "p = re.compile(\"\\\\d\") # \\d == [0-9]\n",
    "p.match(\"123ABC\")"
   ]
  },
  {
   "cell_type": "code",
   "execution_count": 16,
   "id": "3176ee6f-c8bf-4113-9563-d8cdcabe939f",
   "metadata": {},
   "outputs": [],
   "source": [
    "# [..]  문자 클래스에 ^로 시작하면 ~ 아닌 패턴\n",
    "# [^0-9] 0 ~ 9 숫자를 제외한 모든 문자\n",
    "p = re.compile(\"[^0-9]\") # 숫자로 시작하면 안되는 ㅍ ㅐ턴 \\D -[^0-9]\n",
    "                        # \\소문자 ~인 패턴, \\대문자 ~가 아닌 패턴[^...]\n",
    "p.match(\"123ABC\")"
   ]
  },
  {
   "cell_type": "code",
   "execution_count": 17,
   "id": "fc2e4043-2995-46bf-a50e-47cd2879fdfc",
   "metadata": {},
   "outputs": [
    {
     "data": {
      "text/plain": [
       "<re.Match object; span=(0, 1), match='1'>"
      ]
     },
     "execution_count": 17,
     "metadata": {},
     "output_type": "execute_result"
    }
   ],
   "source": [
    "# raw 문자 그대로 인식 - \\d  사용 가능 r'...'\n",
    "p = re.compile(r'\\d')\n",
    "p.match(\"123ABC\")"
   ]
  },
  {
   "cell_type": "code",
   "execution_count": 26,
   "id": "a1f74e26-e77a-4409-b21d-177f2810933b",
   "metadata": {},
   "outputs": [
    {
     "data": {
      "text/plain": [
       "<re.Match object; span=(0, 5), match='a213b'>"
      ]
     },
     "execution_count": 26,
     "metadata": {},
     "output_type": "execute_result"
    }
   ],
   "source": [
    "#. : \\n(줄개행 문자)를 제외한 모든 문자 1개\n",
    "# p = re.compile(\"a.b\")\n",
    "#p = re.compile(\"a...b\") # a 그 다음 문자는 아무거나 3개 하고 b 나오는\n",
    "p = re.compile(\"a.{3}b\")\n",
    "# p.match(\"abb\")\n",
    "# p.match(\"a\\nb\") # 매칭 안돼!\n",
    "p.match(\"a213b\")"
   ]
  },
  {
   "cell_type": "code",
   "execution_count": 36,
   "id": "4a16bcf6-224f-4f47-90ac-d42cf4febd4b",
   "metadata": {},
   "outputs": [
    {
     "data": {
      "text/plain": [
       "<re.Match object; span=(0, 12), match='016-123-1234'>"
      ]
     },
     "execution_count": 36,
     "metadata": {},
     "output_type": "execute_result"
    }
   ],
   "source": [
    "# 휴대전화번호 검증\n",
    "# 01[016] - 010, 011, 016\n",
    "#p = re.compile(r\"01[016]\\d{3,4}\\d{4}\")\n",
    "#p.match(\"0161231234\") # 숫자 외에도 -, _, .. 숫자가 아닌 모든 특수문자가 사이에\n",
    "# 있어도 통과하고 시퍼~\n",
    "p = re.compile(r\"01[016]\\D*\\d{3,4}\\D*\\d{4}\")\n",
    "p.match(\"016-123-1234\")"
   ]
  },
  {
   "cell_type": "code",
   "execution_count": 31,
   "id": "81ab5f2c-bdc4-4c04-a55e-533ae423156a",
   "metadata": {},
   "outputs": [
    {
     "data": {
      "text/plain": [
       "<re.Match object; span=(0, 10), match='ABABABABAB'>"
      ]
     },
     "execution_count": 31,
     "metadata": {},
     "output_type": "execute_result"
    }
   ],
   "source": [
    "# {숫자,} 숫자 이상 반복\n",
    "# (...) 패턴을 그룹화\n",
    "# p = re.compile(r\"(AB){3,}\")\n",
    "p =re.compile(r'(AB)+') # AB가 한번 이상 반복되면\n",
    "p.match(\"ABABABABAB\")"
   ]
  },
  {
   "cell_type": "code",
   "execution_count": 32,
   "id": "6a7c6659-47e0-4fa8-9978-d28c9f371527",
   "metadata": {},
   "outputs": [
    {
     "data": {
      "text/plain": [
       "<re.Match object; span=(0, 9), match='abc123abc'>"
      ]
     },
     "execution_count": 32,
     "metadata": {},
     "output_type": "execute_result"
    }
   ],
   "source": [
    "p = re.compile(r\".*\\d.*\") # 숫자가 포함된 패턴\n",
    "p\n",
    ".match(\"abc123abc\")"
   ]
  }
 ],
 "metadata": {
  "kernelspec": {
   "display_name": "Python 3 (ipykernel)",
   "language": "python",
   "name": "python3"
  },
  "language_info": {
   "codemirror_mode": {
    "name": "ipython",
    "version": 3
   },
   "file_extension": ".py",
   "mimetype": "text/x-python",
   "name": "python",
   "nbconvert_exporter": "python",
   "pygments_lexer": "ipython3",
   "version": "3.12.7"
  }
 },
 "nbformat": 4,
 "nbformat_minor": 5
}
