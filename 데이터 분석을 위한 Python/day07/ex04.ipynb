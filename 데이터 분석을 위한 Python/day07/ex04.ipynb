{
 "cells": [
  {
   "cell_type": "code",
   "execution_count": 1,
   "id": "ecd94def-1bf8-453d-9bc8-67904c7894fa",
   "metadata": {},
   "outputs": [],
   "source": [
    "import re"
   ]
  },
  {
   "cell_type": "code",
   "execution_count": 2,
   "id": "88e83665-7de1-494b-b19f-c7cf38cba54d",
   "metadata": {},
   "outputs": [],
   "source": [
    "data = \"\"\"\n",
    "이이름 010-1000-1000\n",
    "김이름 010-2000-2000\n",
    "\"\"\""
   ]
  },
  {
   "cell_type": "code",
   "execution_count": 3,
   "id": "0ba0be2b-c575-44ff-a5e5-7de2a980c876",
   "metadata": {},
   "outputs": [
    {
     "name": "stdout",
     "output_type": "stream",
     "text": [
      "['이이름 010-1000-1000', '김이름 010-2000-2000']\n"
     ]
    }
   ],
   "source": [
    "p = re.compile(r\"[a-zA-Zㄱ-ㅎ가-힣]+\\s01[016]\\D*\\d{3,4}\\D*\\d{4}\")\n",
    "print(p.findall(data))"
   ]
  },
  {
   "cell_type": "code",
   "execution_count": 4,
   "id": "aaf87dfb-6bf3-4cbf-b2ec-6ebdd7ab2ef4",
   "metadata": {},
   "outputs": [],
   "source": [
    "p = re.compile(r\"([a-zA-Zㄱ-ㅎ가-힣]+)\\s(01[016]\\D*\\d{3,4}\\D*\\d{4})\")"
   ]
  },
  {
   "cell_type": "code",
   "execution_count": 6,
   "id": "58f19799-1e0b-4108-9d0f-859552451c4a",
   "metadata": {},
   "outputs": [
    {
     "name": "stdout",
     "output_type": "stream",
     "text": [
      "이이름 010-1000-1000\n",
      "이이름\n",
      "010-1000-1000\n",
      "김이름 010-2000-2000\n",
      "김이름\n",
      "010-2000-2000\n"
     ]
    }
   ],
   "source": [
    "for m in p.finditer(data):\n",
    "    print(m.group()) # 전체 패턴에 매칭되는 문자열 \n",
    "    print(m.group(1)) # 첫번째 그룹에 매칭되는 문자열\n",
    "    print(m.group(2)) # 두번째 그룹에 매칭되는 문자열"
   ]
  },
  {
   "cell_type": "code",
   "execution_count": 8,
   "id": "635e86dd-1c71-4a25-8d8a-ffe0453c7f7a",
   "metadata": {},
   "outputs": [
    {
     "name": "stdout",
     "output_type": "stream",
     "text": [
      "\n",
      "010-1000-1000 이이름\n",
      "010-2000-2000 김이름\n",
      "\n"
     ]
    }
   ],
   "source": [
    "p = re.compile(r\"([a-zA-Zㄱ-ㅎ가-힣]+)\\s(01[016]\\D*\\d{3,4}\\D*\\d{4})\") #\\g<1>, \\g<2>\n",
    "a = p.sub(r\"\\g<2> \\g<1>\", data)\n",
    "print(a)"
   ]
  },
  {
   "cell_type": "code",
   "execution_count": 14,
   "id": "fc3c3454-2e2e-466f-a367-31a254e362f3",
   "metadata": {},
   "outputs": [
    {
     "name": "stdout",
     "output_type": "stream",
     "text": [
      "\n",
      "010-1000-1000 : 이이름\n",
      "010-2000-2000 : 김이름\n",
      "\n"
     ]
    }
   ],
   "source": [
    "p = re.compile(r\"(?P<name>[a-zA-Zㄱ-ㅎ가-힣]+)\\s(?P<phone>01[016]\\D*\\d{3,4}\\D*\\d{4})\") \n",
    "a = p.sub(r\"\\g<phone> : \\g<name>\", data)\n",
    "print(a)"
   ]
  },
  {
   "cell_type": "code",
   "execution_count": 9,
   "id": "86d8d58c-d550-482f-8bf8-6cdb57816d21",
   "metadata": {},
   "outputs": [],
   "source": [
    "a = \"111 ab ab 222\""
   ]
  },
  {
   "cell_type": "code",
   "execution_count": 10,
   "id": "ca72c383-31a7-4dcb-8fb5-1b2062a927f0",
   "metadata": {},
   "outputs": [
    {
     "data": {
      "text/plain": [
       "<re.Match object; span=(4, 9), match='ab ab'>"
      ]
     },
     "execution_count": 10,
     "metadata": {},
     "output_type": "execute_result"
    }
   ],
   "source": [
    "p = re.compile(r\"(ab)\\s\\1\") # \\1 - (ab) \\1 - 1번 그룹과 동일한 패턴\n",
    "p.search(a)"
   ]
  },
  {
   "cell_type": "code",
   "execution_count": null,
   "id": "4b33fcad-6beb-4c59-9ad8-3df2b2ccd1d3",
   "metadata": {},
   "outputs": [],
   "source": []
  }
 ],
 "metadata": {
  "kernelspec": {
   "display_name": "Python 3 (ipykernel)",
   "language": "python",
   "name": "python3"
  },
  "language_info": {
   "codemirror_mode": {
    "name": "ipython",
    "version": 3
   },
   "file_extension": ".py",
   "mimetype": "text/x-python",
   "name": "python",
   "nbconvert_exporter": "python",
   "pygments_lexer": "ipython3",
   "version": "3.12.7"
  }
 },
 "nbformat": 4,
 "nbformat_minor": 5
}
