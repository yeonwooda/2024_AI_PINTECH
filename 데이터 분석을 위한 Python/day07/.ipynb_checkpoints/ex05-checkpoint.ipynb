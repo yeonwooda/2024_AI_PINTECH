{
 "cells": [
  {
   "cell_type": "code",
   "execution_count": 4,
   "id": "228a0b9c-e773-4fa3-828d-dc1b4f354161",
   "metadata": {},
   "outputs": [],
   "source": [
    "import re\n",
    "url = \"http://www.naver.com\""
   ]
  },
  {
   "cell_type": "code",
   "execution_count": 5,
   "id": "0e6034e7-aff0-4f6d-af74-2f2852e7c7c6",
   "metadata": {},
   "outputs": [
    {
     "data": {
      "text/plain": [
       "<re.Match object; span=(0, 7), match='http://'>"
      ]
     },
     "execution_count": 5,
     "metadata": {},
     "output_type": "execute_result"
    }
   ],
   "source": [
    "p = re.compile(r\"http[s]?://\")\n",
    "p.match(url)"
   ]
  },
  {
   "cell_type": "code",
   "execution_count": 7,
   "id": "3baedf2d-2c05-4f8f-ae77-d7b2f9fc4787",
   "metadata": {},
   "outputs": [
    {
     "data": {
      "text/plain": [
       "<re.Match object; span=(0, 4), match='http'>"
      ]
     },
     "execution_count": 7,
     "metadata": {},
     "output_type": "execute_result"
    }
   ],
   "source": [
    "p = re.compile(r\".+(?=://)\") # 전방 탐색\n",
    "p.match(url)"
   ]
  },
  {
   "cell_type": "code",
   "execution_count": 8,
   "id": "b5e37fcc-2db2-479d-97cb-b31797c4a803",
   "metadata": {},
   "outputs": [
    {
     "name": "stdout",
     "output_type": "stream",
     "text": [
      "https://www.naver.com\n"
     ]
    }
   ],
   "source": [
    "urls = [\"abc\", \"def\", \"https://www.naver.com\", \"ghi\"]\n",
    "for url in urls:\n",
    "    if p.match(url):\n",
    "        print(url)"
   ]
  },
  {
   "cell_type": "code",
   "execution_count": 12,
   "id": "7c00f267-4f66-4107-8b1f-e245bd666bc2",
   "metadata": {},
   "outputs": [
    {
     "name": "stdout",
     "output_type": "stream",
     "text": [
      "abc\n",
      "def\n",
      "https://www.naver.com\n",
      "ghi\n"
     ]
    }
   ],
   "source": [
    "p = re.compile(r\".+(?!://)\") # 전방 부정 탐색 : // 패턴이 아닌 문구의 앞에 있는 패턴\n",
    "for url in urls:\n",
    "    if p.match(url):\n",
    "        print(url)"
   ]
  },
  {
   "cell_type": "code",
   "execution_count": 13,
   "id": "ba58e994-2d9e-4243-bac9-16412da437fe",
   "metadata": {},
   "outputs": [],
   "source": [
    "a = \"<html><head><title>Title</title></head><html>\""
   ]
  },
  {
   "cell_type": "code",
   "execution_count": 16,
   "id": "5f269d7f-19a3-480d-aad3-368f8ff159b1",
   "metadata": {},
   "outputs": [
    {
     "data": {
      "text/plain": [
       "'<html><head><title>Title</title></head><html>'"
      ]
     },
     "execution_count": 16,
     "metadata": {},
     "output_type": "execute_result"
    }
   ],
   "source": [
    "p = re.compile(r\"<.*>\") # 촤대 매칭\n",
    "p.match(a).group()"
   ]
  },
  {
   "cell_type": "code",
   "execution_count": 17,
   "id": "780e8eb0-3a97-4554-b8ec-65d1d5026138",
   "metadata": {},
   "outputs": [
    {
     "data": {
      "text/plain": [
       "'<html>'"
      ]
     },
     "execution_count": 17,
     "metadata": {},
     "output_type": "execute_result"
    }
   ],
   "source": [
    "p = re.compile(r\"<.*?>\") # 최소 매칭\n",
    "p.match(a).group()"
   ]
  },
  {
   "cell_type": "code",
   "execution_count": 20,
   "id": "ac6e4bd2-dbb0-4e3e-b67f-e4380c7e1da5",
   "metadata": {},
   "outputs": [
    {
     "data": {
      "text/plain": [
       "'1 fruits, 2 oranges, 3 fruits'"
      ]
     },
     "execution_count": 20,
     "metadata": {},
     "output_type": "execute_result"
    }
   ],
   "source": [
    "p = re.compile(\"apple|orabge|melon\")\n",
    "str = \"1 apples, 2 oranges, 3 melons\"\n",
    "# p.sub(\"fruit\", str)\n",
    "p.sub(\"fruit\", str, count=2) # 2개 까지만 치환\n",
    "p.subn(\"fruit\" str, 2) # 2개까지만 치환"
   ]
  },
  {
   "cell_type": "code",
   "execution_count": null,
   "id": "f8bd86ed-b1b9-4f38-8bff-add7c189f6a1",
   "metadata": {},
   "outputs": [],
   "source": []
  }
 ],
 "metadata": {
  "kernelspec": {
   "display_name": "Python 3 (ipykernel)",
   "language": "python",
   "name": "python3"
  },
  "language_info": {
   "codemirror_mode": {
    "name": "ipython",
    "version": 3
   },
   "file_extension": ".py",
   "mimetype": "text/x-python",
   "name": "python",
   "nbconvert_exporter": "python",
   "pygments_lexer": "ipython3",
   "version": "3.12.7"
  }
 },
 "nbformat": 4,
 "nbformat_minor": 5
}
