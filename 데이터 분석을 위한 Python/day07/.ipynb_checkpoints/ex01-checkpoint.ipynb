{
 "cells": [
  {
   "cell_type": "code",
   "execution_count": 2,
   "id": "4ca0bbcc-82da-483f-9529-5ca62350dab2",
   "metadata": {},
   "outputs": [],
   "source": [
    "# . : 줄 개행 문자(\\n)를 제외한 모든 문자 1자\n",
    "import re \n",
    "p = re.compile(\"a.b\") \n",
    "p.match(\"a1b\")\n",
    "p.match(\"a\\nb\") # .은 줄개행 문자(\\n) 제외한 모든 문자 1자"
   ]
  },
  {
   "cell_type": "code",
   "execution_count": 4,
   "id": "848f58c5-e998-47e0-b09e-e5642f546984",
   "metadata": {},
   "outputs": [
    {
     "data": {
      "text/plain": [
       "<re.Match object; span=(0, 3), match='a\\nb'>"
      ]
     },
     "execution_count": 4,
     "metadata": {},
     "output_type": "execute_result"
    }
   ],
   "source": [
    "# re.DOTALL : .이 줄 개행 문자(\\n)도 포함한 모든 문자 1개 \n",
    "# p = re.compile(\"a.b\",re.DOTALL)\n",
    "p = re.compile(\"a.b\", re.S)\n",
    "p.match(\"a\\nb\")"
   ]
  },
  {
   "cell_type": "code",
   "execution_count": 7,
   "id": "4748f5a8-8eb6-473a-8d1e-d651cb93efe0",
   "metadata": {},
   "outputs": [
    {
     "data": {
      "text/plain": [
       "<re.Match object; span=(0, 6), match='python'>"
      ]
     },
     "execution_count": 7,
     "metadata": {},
     "output_type": "execute_result"
    }
   ],
   "source": [
    "# p = re.compile(\"[a-zA-Z]+\")  # 알파벳 소문자\n",
    "#p = re.compile(\"[a-z]+\", re.IGNORECASE) # 대소문자 구분 x\n",
    "p = re.compile(\"[a-z]+\", re.I)\n",
    "p.match(\"python\")"
   ]
  },
  {
   "cell_type": "code",
   "execution_count": 12,
   "id": "99b8790a-4aa4-4135-91f5-621c0cc2d91e",
   "metadata": {},
   "outputs": [
    {
     "name": "stdout",
     "output_type": "stream",
     "text": [
      "['python one', 'python two', 'python three']\n"
     ]
    }
   ],
   "source": [
    "str = \"\"\"python one\n",
    "life is short\n",
    "python two\n",
    "you need python\n",
    "python three\"\"\"\n",
    "# p = re.compile(r\"^python\\s\\w+\") # 전체 하나의 문장으로 체크 \n",
    "# p = re.compile(r\"^pyhton\\s\\w+\", re.MULTILINE) # 각각의 행별로 ^(시작), $(끝) 패턴을 체크\n",
    "p = re.compile(r\"^python\\s\\w+\", re.M)\n",
    "items = p.findall(str)\n",
    "print(items)"
   ]
  },
  {
   "cell_type": "code",
   "execution_count": 15,
   "id": "da271aee-1103-4cb3-90d5-d24bcee3f9c4",
   "metadata": {},
   "outputs": [
    {
     "data": {
      "text/plain": [
       "<re.Match object; span=(0, 5), match='ab cd'>"
      ]
     },
     "execution_count": 15,
     "metadata": {},
     "output_type": "execute_result"
    }
   ],
   "source": [
    "# p = re.compile(\"ab\\\\scd\") # \\s -> s -> \\\\s \\s \n",
    "p = re.compile(r'ab\\scd')\n",
    "p.match(\"ab cd\")"
   ]
  },
  {
   "cell_type": "code",
   "execution_count": null,
   "id": "87581901-9743-4c36-ba2c-8568fd8ea362",
   "metadata": {},
   "outputs": [],
   "source": []
  },
  {
   "cell_type": "code",
   "execution_count": null,
   "id": "11c1e8d6-13bd-4204-9fbd-562006c84b56",
   "metadata": {},
   "outputs": [],
   "source": []
  }
 ],
 "metadata": {
  "kernelspec": {
   "display_name": "Python 3 (ipykernel)",
   "language": "python",
   "name": "python3"
  },
  "language_info": {
   "codemirror_mode": {
    "name": "ipython",
    "version": 3
   },
   "file_extension": ".py",
   "mimetype": "text/x-python",
   "name": "python",
   "nbconvert_exporter": "python",
   "pygments_lexer": "ipython3",
   "version": "3.12.7"
  }
 },
 "nbformat": 4,
 "nbformat_minor": 5
}
