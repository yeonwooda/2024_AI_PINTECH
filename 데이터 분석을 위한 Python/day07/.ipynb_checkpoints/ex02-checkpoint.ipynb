{
 "cells": [
  {
   "cell_type": "code",
   "execution_count": 1,
   "id": "b908d8a6-2ef9-4bbb-97eb-b6471111304d",
   "metadata": {},
   "outputs": [],
   "source": [
    "import re "
   ]
  },
  {
   "cell_type": "code",
   "execution_count": 4,
   "id": "a49c217e-199e-4a0f-a346-89765ec0004a",
   "metadata": {},
   "outputs": [
    {
     "data": {
      "text/plain": [
       "<re.Match object; span=(6, 12), match='orange'>"
      ]
     },
     "execution_count": 4,
     "metadata": {},
     "output_type": "execute_result"
    }
   ],
   "source": [
    "p = re.compile(\"apple|orange|melon\") # apple or orange or melon\n",
    "p.search(\"three orange\")\n",
    "#p.search(\"three mango\")"
   ]
  },
  {
   "cell_type": "code",
   "execution_count": 7,
   "id": "81880efb-0b61-4fac-8911-96ca77024a0c",
   "metadata": {},
   "outputs": [
    {
     "data": {
      "text/plain": [
       "<re.Match object; span=(0, 13), match='010/1000/1000'>"
      ]
     },
     "execution_count": 7,
     "metadata": {},
     "output_type": "execute_result"
    }
   ],
   "source": [
    "p = re.compile(r\"^01[016]\\D*\\d{3,4}\\D*\\d{4}$\") #01로 반드시 시작, 숫자 4자리로 반드시 끝나는 패턴\n",
    "# 010- , 010. \n",
    "p.search(\"010/1000/1000\")"
   ]
  },
  {
   "cell_type": "code",
   "execution_count": 11,
   "id": "762d89c5-87e2-441e-997d-0e18cfa8c112",
   "metadata": {},
   "outputs": [
    {
     "data": {
      "text/plain": [
       "<re.Match object; span=(0, 5), match='class'>"
      ]
     },
     "execution_count": 11,
     "metadata": {},
     "output_type": "execute_result"
    }
   ],
   "source": [
    "p = re.compile(r\"\\bclass\\b\") # class 단어 \\b는 class 단어의 경계선 \n",
    "p.search(\"my class is over 6pm\")\n",
    "p.search(\"class is over 6pm\")"
   ]
  },
  {
   "cell_type": "code",
   "execution_count": 12,
   "id": "6c7165d0-6906-4a81-a95e-c05c1222ef61",
   "metadata": {},
   "outputs": [
    {
     "data": {
      "text/plain": [
       "<re.Match object; span=(6, 11), match='class'>"
      ]
     },
     "execution_count": 12,
     "metadata": {},
     "output_type": "execute_result"
    }
   ],
   "source": [
    "p = re.compile(r\"\\Bclass\\b\")\n",
    "p.search(\"my subclass is over 6pm\")"
   ]
  },
  {
   "cell_type": "code",
   "execution_count": 13,
   "id": "db9f1944-bbec-4fc0-8724-b0481b62751f",
   "metadata": {},
   "outputs": [
    {
     "data": {
      "text/plain": [
       "<re.Match object; span=(0, 6), match='ABCABC'>"
      ]
     },
     "execution_count": 13,
     "metadata": {},
     "output_type": "execute_result"
    }
   ],
   "source": [
    "p = re.compile(\"(ABC){2}\") #ABC 패턴이 2번 반복되는지 체크 \n",
    "p.search(\"ABCABC\")"
   ]
  },
  {
   "cell_type": "code",
   "execution_count": null,
   "id": "81640eef-2cb3-4b49-ae4d-81dde3d5541e",
   "metadata": {},
   "outputs": [],
   "source": []
  },
  {
   "cell_type": "code",
   "execution_count": null,
   "id": "b5ba5e8e-756b-45b0-83b8-1aca37f9555d",
   "metadata": {},
   "outputs": [],
   "source": []
  }
 ],
 "metadata": {
  "kernelspec": {
   "display_name": "Python 3 (ipykernel)",
   "language": "python",
   "name": "python3"
  },
  "language_info": {
   "codemirror_mode": {
    "name": "ipython",
    "version": 3
   },
   "file_extension": ".py",
   "mimetype": "text/x-python",
   "name": "python",
   "nbconvert_exporter": "python",
   "pygments_lexer": "ipython3",
   "version": "3.12.7"
  }
 },
 "nbformat": 4,
 "nbformat_minor": 5
}
