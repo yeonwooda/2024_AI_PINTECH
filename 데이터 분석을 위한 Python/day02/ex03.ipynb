{
 "cells": [
  {
   "cell_type": "code",
   "execution_count": 2,
   "id": "b460f07d-5793-44b5-9921-40196f8ee314",
   "metadata": {},
   "outputs": [],
   "source": [
    "person = {'name': '이이름', 'age' : 40}"
   ]
  },
  {
   "cell_type": "code",
   "execution_count": 9,
   "id": "e9728bef-77cc-4d42-b9f0-889094acfffa",
   "metadata": {},
   "outputs": [
    {
     "data": {
      "text/plain": [
       "{'name': '(수정)이이름', 'age': 40}"
      ]
     },
     "execution_count": 9,
     "metadata": {},
     "output_type": "execute_result"
    }
   ],
   "source": [
    "# person['name'] = '(수정)이이름'\n",
    "# person['address'] = '주소'\n",
    "del person['address']\n",
    "person"
   ]
  },
  {
   "cell_type": "code",
   "execution_count": 3,
   "id": "fd7ec3fb-bcb2-42eb-9673-1a393b93e5dc",
   "metadata": {},
   "outputs": [
    {
     "data": {
      "text/plain": [
       "{'name': '이이름', 'age': 40}"
      ]
     },
     "execution_count": 3,
     "metadata": {},
     "output_type": "execute_result"
    }
   ],
   "source": [
    "person"
   ]
  },
  {
   "cell_type": "code",
   "execution_count": 4,
   "id": "db4661cc-5ad2-47e9-acd0-21a275b29ad7",
   "metadata": {},
   "outputs": [
    {
     "data": {
      "text/plain": [
       "dict"
      ]
     },
     "execution_count": 4,
     "metadata": {},
     "output_type": "execute_result"
    }
   ],
   "source": [
    "type(person)"
   ]
  },
  {
   "cell_type": "code",
   "execution_count": 11,
   "id": "d91432f7-db7e-4de6-b072-eb3793029aaa",
   "metadata": {},
   "outputs": [],
   "source": [
    "person = {\"name\":\"이이름\"}"
   ]
  },
  {
   "cell_type": "code",
   "execution_count": 15,
   "id": "25838d0f-7704-41b3-aab9-6f0a1aac9e25",
   "metadata": {},
   "outputs": [
    {
     "name": "stdout",
     "output_type": "stream",
     "text": [
      "40\n"
     ]
    }
   ],
   "source": [
    "# person['age'] - 예외 발생\n",
    "# person.get('age')\n",
    "age = person.get('age', 40) # 기본값 40\n",
    "print(age)"
   ]
  },
  {
   "cell_type": "code",
   "execution_count": 16,
   "id": "0221d5a7-c477-4963-8bff-02ba23c2612b",
   "metadata": {},
   "outputs": [],
   "source": [
    "person = {\"name\" : \"이이름\", \"age\" : 40 }"
   ]
  },
  {
   "cell_type": "code",
   "execution_count": 18,
   "id": "6bdbde71-d9a5-4707-8cf2-49a8a30c3c08",
   "metadata": {},
   "outputs": [
    {
     "name": "stdout",
     "output_type": "stream",
     "text": [
      "dict_keys(['name', 'age']) dict_values(['이이름', 40])\n"
     ]
    }
   ],
   "source": [
    "keys = person.keys() # 키 목록 조회\n",
    "values = person.values()  # 값 목록 조회\n",
    "print(keys, values)"
   ]
  },
  {
   "cell_type": "code",
   "execution_count": 19,
   "id": "89802648-ac8b-40b3-b759-e28c861ba400",
   "metadata": {},
   "outputs": [
    {
     "name": "stdout",
     "output_type": "stream",
     "text": [
      "['이이름', 40]\n"
     ]
    }
   ],
   "source": [
    "values2 = list(values)\n",
    "print(values2)"
   ]
  },
  {
   "cell_type": "code",
   "execution_count": 20,
   "id": "f570deb8-1d63-49e0-8047-f12164c97cb5",
   "metadata": {},
   "outputs": [
    {
     "name": "stdout",
     "output_type": "stream",
     "text": [
      "dict_items([('name', '이이름'), ('age', 40)])\n"
     ]
    }
   ],
   "source": [
    "items = person.items() # 키, 값 쌍\n",
    "print(items)"
   ]
  },
  {
   "cell_type": "code",
   "execution_count": 22,
   "id": "e3566987-ef09-49ac-9201-381b4b5d95b4",
   "metadata": {},
   "outputs": [
    {
     "name": "stdout",
     "output_type": "stream",
     "text": [
      "name 이이름\n",
      "age 40\n"
     ]
    }
   ],
   "source": [
    "for (name, age) in items:\n",
    "    print(name, age)"
   ]
  },
  {
   "cell_type": "code",
   "execution_count": 23,
   "id": "4bf30611-3810-4a30-99d9-2df72d37178d",
   "metadata": {},
   "outputs": [
    {
     "data": {
      "text/plain": [
       "True"
      ]
     },
     "execution_count": 23,
     "metadata": {},
     "output_type": "execute_result"
    }
   ],
   "source": [
    "'name' in person"
   ]
  },
  {
   "cell_type": "code",
   "execution_count": null,
   "id": "91bbca02-37e7-4513-87ae-5ca907daaad3",
   "metadata": {},
   "outputs": [],
   "source": []
  },
  {
   "cell_type": "code",
   "execution_count": null,
   "id": "5a2d1fe7-6d12-493a-80b7-e06eb1b8c7d1",
   "metadata": {},
   "outputs": [],
   "source": []
  }
 ],
 "metadata": {
  "kernelspec": {
   "display_name": "Python 3 (ipykernel)",
   "language": "python",
   "name": "python3"
  },
  "language_info": {
   "codemirror_mode": {
    "name": "ipython",
    "version": 3
   },
   "file_extension": ".py",
   "mimetype": "text/x-python",
   "name": "python",
   "nbconvert_exporter": "python",
   "pygments_lexer": "ipython3",
   "version": "3.12.7"
  }
 },
 "nbformat": 4,
 "nbformat_minor": 5
}
