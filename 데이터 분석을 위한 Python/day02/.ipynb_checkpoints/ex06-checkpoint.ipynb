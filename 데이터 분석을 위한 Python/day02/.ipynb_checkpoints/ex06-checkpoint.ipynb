{
 "cells": [
  {
   "cell_type": "code",
   "execution_count": 1,
   "id": "b3e74d9e-0680-4fbe-8459-e21466a5e0d7",
   "metadata": {},
   "outputs": [],
   "source": [
    "a = 10 # 자바의 리터럴 상수와 비슷, 재료가 되는 수는 1개의 주소를 가지고 공유\n",
    "b = 10"
   ]
  },
  {
   "cell_type": "code",
   "execution_count": 2,
   "id": "12a10c48-e2b1-423b-a079-0d535d58661b",
   "metadata": {},
   "outputs": [
    {
     "name": "stdout",
     "output_type": "stream",
     "text": [
      "140729636629208 140729636629208\n"
     ]
    }
   ],
   "source": [
    "print(id(a), id(b))"
   ]
  },
  {
   "cell_type": "code",
   "execution_count": 4,
   "id": "bc2d04c0-9b57-4017-ac2e-29203dce92c0",
   "metadata": {},
   "outputs": [],
   "source": [
    "a = [1, 2, 3, 4, 5] # a는 참조변수"
   ]
  },
  {
   "cell_type": "code",
   "execution_count": 5,
   "id": "cc7cbd9c-5ed9-4216-8781-dd5c50ee3d2c",
   "metadata": {},
   "outputs": [],
   "source": [
    "b = a # b는 a가 가지고 있는 주소값이 대입"
   ]
  },
  {
   "cell_type": "code",
   "execution_count": 7,
   "id": "b43ddafe-949e-4635-81da-24c99375d468",
   "metadata": {},
   "outputs": [],
   "source": [
    "b[1] = '둘'"
   ]
  },
  {
   "cell_type": "code",
   "execution_count": 8,
   "id": "83a592c9-22f1-4079-b92f-ab6cb77006c1",
   "metadata": {},
   "outputs": [
    {
     "name": "stdout",
     "output_type": "stream",
     "text": [
      "[1, '둘', 3, 4, 5]\n"
     ]
    }
   ],
   "source": [
    "print(a)"
   ]
  },
  {
   "cell_type": "code",
   "execution_count": 12,
   "id": "ba8eee37-638c-4643-afa7-339876a21cb0",
   "metadata": {},
   "outputs": [
    {
     "name": "stdout",
     "output_type": "stream",
     "text": [
      "2231978761664 2231978761664\n"
     ]
    }
   ],
   "source": [
    "print(id(a), id(b)) # 주소 비교"
   ]
  },
  {
   "cell_type": "code",
   "execution_count": 11,
   "id": "f3dfa830-9dac-43a3-8456-b4de97f39a48",
   "metadata": {},
   "outputs": [
    {
     "data": {
      "text/plain": [
       "True"
      ]
     },
     "execution_count": 11,
     "metadata": {},
     "output_type": "execute_result"
    }
   ],
   "source": [
    "# a == b\n",
    "a is b # a,b가 같은 객체를 참조하는지 체크"
   ]
  },
  {
   "cell_type": "code",
   "execution_count": 14,
   "id": "9c35d19b-64ec-455b-aab4-7cec8e2d6ca5",
   "metadata": {},
   "outputs": [],
   "source": [
    "a = [1, 2, 3, 4, 5]"
   ]
  },
  {
   "cell_type": "code",
   "execution_count": 15,
   "id": "354d47d9-7ad3-4201-8cd2-c8d943a807fb",
   "metadata": {},
   "outputs": [],
   "source": [
    "b = a[:] # 전체 값을 복사해서 새로운 리스트 객체"
   ]
  },
  {
   "cell_type": "code",
   "execution_count": 16,
   "id": "561acbb8-de62-4563-afed-2103337a112b",
   "metadata": {},
   "outputs": [],
   "source": [
    "b[1] = '둘'"
   ]
  },
  {
   "cell_type": "code",
   "execution_count": 18,
   "id": "f2be84f0-f494-4069-9288-84af865e6d62",
   "metadata": {},
   "outputs": [
    {
     "name": "stdout",
     "output_type": "stream",
     "text": [
      "[1, 2, 3, 4, 5] [1, '둘', 3, 4, 5] 2231978977984 2231979050624\n"
     ]
    }
   ],
   "source": [
    "print(a, b, id(a), id(b))"
   ]
  },
  {
   "cell_type": "code",
   "execution_count": 20,
   "id": "4c7bcc5e-57d1-498e-9036-9b9547a0ce92",
   "metadata": {},
   "outputs": [],
   "source": [
    "c = a.copy() # 전체 값을 복사해서 새로운 리스트 객체"
   ]
  },
  {
   "cell_type": "code",
   "execution_count": 21,
   "id": "c6373cba-f554-4815-9e03-df604128ac09",
   "metadata": {},
   "outputs": [],
   "source": [
    "c[2] = '셋'"
   ]
  },
  {
   "cell_type": "code",
   "execution_count": 22,
   "id": "e0fd1081-715f-4618-bd59-1080e8a3d6b9",
   "metadata": {},
   "outputs": [
    {
     "name": "stdout",
     "output_type": "stream",
     "text": [
      "[1, 2, 3, 4, 5] [1, 2, '셋', 4, 5] 2231978977984 2231979223552\n"
     ]
    }
   ],
   "source": [
    "print(a, c, id(a), id(c))"
   ]
  },
  {
   "cell_type": "code",
   "execution_count": 23,
   "id": "414b0460-3dbe-47ea-b8a0-723566724c1d",
   "metadata": {},
   "outputs": [],
   "source": [
    "[a, b] = ['사과', '오렌지']"
   ]
  },
  {
   "cell_type": "code",
   "execution_count": 24,
   "id": "317828e1-6926-4410-9f18-cf20dbb85083",
   "metadata": {},
   "outputs": [
    {
     "name": "stdout",
     "output_type": "stream",
     "text": [
      "사과 오렌지\n"
     ]
    }
   ],
   "source": [
    "print(a,b)"
   ]
  },
  {
   "cell_type": "code",
   "execution_count": null,
   "id": "4189c288-c210-4aba-a060-63045601e1f3",
   "metadata": {},
   "outputs": [],
   "source": []
  }
 ],
 "metadata": {
  "kernelspec": {
   "display_name": "Python 3 (ipykernel)",
   "language": "python",
   "name": "python3"
  },
  "language_info": {
   "codemirror_mode": {
    "name": "ipython",
    "version": 3
   },
   "file_extension": ".py",
   "mimetype": "text/x-python",
   "name": "python",
   "nbconvert_exporter": "python",
   "pygments_lexer": "ipython3",
   "version": "3.12.7"
  }
 },
 "nbformat": 4,
 "nbformat_minor": 5
}
