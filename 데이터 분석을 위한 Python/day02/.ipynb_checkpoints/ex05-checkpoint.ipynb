{
 "cells": [
  {
   "cell_type": "code",
   "execution_count": 4,
   "id": "a12f2382-2a2f-4728-a639-13e56fc249f7",
   "metadata": {},
   "outputs": [],
   "source": [
    "a = \"\" # 거짓\n",
    "b = \"1\" # 참\n",
    "c = \" \" # 참, 공백도 문자"
   ]
  },
  {
   "cell_type": "code",
   "execution_count": 7,
   "id": "ed07a6ac-2ae8-42a9-87b2-10724b98f467",
   "metadata": {},
   "outputs": [
    {
     "name": "stdout",
     "output_type": "stream",
     "text": [
      "참\n"
     ]
    }
   ],
   "source": [
    "if c : \n",
    "    print(\"참\")\n",
    "else : \n",
    "    print(\"거짓\")"
   ]
  },
  {
   "cell_type": "code",
   "execution_count": null,
   "id": "25abdc48-c750-41fc-a2ba-4b356a0dbf04",
   "metadata": {},
   "outputs": [],
   "source": [
    "print(bool(\"\")) #False\n",
    "print(bool(\"1\")) # True\n",
    "print(bool([])) # False\n",
    "print(bool(())) # False"
   ]
  }
 ],
 "metadata": {
  "kernelspec": {
   "display_name": "Python 3 (ipykernel)",
   "language": "python",
   "name": "python3"
  },
  "language_info": {
   "codemirror_mode": {
    "name": "ipython",
    "version": 3
   },
   "file_extension": ".py",
   "mimetype": "text/x-python",
   "name": "python",
   "nbconvert_exporter": "python",
   "pygments_lexer": "ipython3",
   "version": "3.12.7"
  }
 },
 "nbformat": 4,
 "nbformat_minor": 5
}
