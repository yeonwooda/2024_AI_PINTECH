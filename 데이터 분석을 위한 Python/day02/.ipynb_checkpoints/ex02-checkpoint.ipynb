{
 "cells": [
  {
   "cell_type": "code",
   "execution_count": 8,
   "id": "89f2d924-e096-4a8d-9298-470f89b77ecd",
   "metadata": {},
   "outputs": [],
   "source": [
    "# a = (1, 2, 3) \n",
    "# a = (1) # 튜플로 인식하는 것이 아니라 숫자 1로 인식\n",
    "a = (1,) # 숫자 1이라는 값이 1개 있는 튜플"
   ]
  },
  {
   "cell_type": "code",
   "execution_count": 3,
   "id": "6d14a707-b9b8-4081-8605-482654d3da4b",
   "metadata": {},
   "outputs": [
    {
     "data": {
      "text/plain": [
       "2"
      ]
     },
     "execution_count": 3,
     "metadata": {},
     "output_type": "execute_result"
    }
   ],
   "source": [
    "# a[1]\n",
    "# a[1] = 'A' - 변경 불가 리스트이므로 수정 시 예외 발생\n",
    "# del a[1] 이것도 안돼 "
   ]
  },
  {
   "cell_type": "code",
   "execution_count": 9,
   "id": "46302f4c-7204-4486-ab1e-fb0a1e127819",
   "metadata": {},
   "outputs": [
    {
     "data": {
      "text/plain": [
       "(1,)"
      ]
     },
     "execution_count": 9,
     "metadata": {},
     "output_type": "execute_result"
    }
   ],
   "source": [
    "a "
   ]
  },
  {
   "cell_type": "code",
   "execution_count": 11,
   "id": "0b0ca0bd-c95f-4419-94d5-e757b1ebbcd7",
   "metadata": {},
   "outputs": [
    {
     "data": {
      "text/plain": [
       "tuple"
      ]
     },
     "execution_count": 11,
     "metadata": {},
     "output_type": "execute_result"
    }
   ],
   "source": [
    "# type((1)) int\n",
    "type((1,)) # tuple"
   ]
  },
  {
   "cell_type": "code",
   "execution_count": 12,
   "id": "2bcccf58-2903-4869-84f0-e00f616412ce",
   "metadata": {},
   "outputs": [],
   "source": [
    "a = 1, 2, 3, 4, 5 # tuple 인식"
   ]
  },
  {
   "cell_type": "code",
   "execution_count": 13,
   "id": "5a319f26-c3f3-4fff-b021-738a03a6e557",
   "metadata": {},
   "outputs": [
    {
     "data": {
      "text/plain": [
       "(1, 2, 3, 4, 5)"
      ]
     },
     "execution_count": 13,
     "metadata": {},
     "output_type": "execute_result"
    }
   ],
   "source": [
    "a"
   ]
  },
  {
   "cell_type": "code",
   "execution_count": 14,
   "id": "c929911c-6da1-4157-bbaa-33a3b9c56be1",
   "metadata": {},
   "outputs": [
    {
     "data": {
      "text/plain": [
       "tuple"
      ]
     },
     "execution_count": 14,
     "metadata": {},
     "output_type": "execute_result"
    }
   ],
   "source": [
    "type(a)"
   ]
  },
  {
   "cell_type": "code",
   "execution_count": 15,
   "id": "e60c9fd4-e788-46a1-a930-54e5027a239e",
   "metadata": {},
   "outputs": [],
   "source": [
    "a = (1, 2, 3)\n",
    "b = (4, 5, 6)"
   ]
  },
  {
   "cell_type": "code",
   "execution_count": 17,
   "id": "aec51a55-e309-4d6e-8d62-c6ff5a8a4564",
   "metadata": {},
   "outputs": [
    {
     "name": "stdout",
     "output_type": "stream",
     "text": [
      "(1, 2, 3, 4, 5, 6)\n"
     ]
    }
   ],
   "source": [
    "c = a + b\n",
    "print(c)"
   ]
  },
  {
   "cell_type": "code",
   "execution_count": 18,
   "id": "0806d33b-4f84-414b-88ed-2ad974666866",
   "metadata": {},
   "outputs": [
    {
     "name": "stdout",
     "output_type": "stream",
     "text": [
      "(1, 2, 3, 1, 2, 3, 1, 2, 3)\n"
     ]
    }
   ],
   "source": [
    "d = a * 3;\n",
    "print(d)"
   ]
  },
  {
   "cell_type": "code",
   "execution_count": 22,
   "id": "37d7443a-17d9-49f2-b8b0-3cad11b5643b",
   "metadata": {},
   "outputs": [],
   "source": [
    "# a = (\"사과\", \"오렌지\")\n",
    "a = \"사과\", \"오렌지\""
   ]
  },
  {
   "cell_type": "code",
   "execution_count": 25,
   "id": "91a12ed2-5e11-4d17-a071-0f233689ab92",
   "metadata": {},
   "outputs": [],
   "source": [
    "# (apple, orange) = a\n",
    "apple, orange = a"
   ]
  },
  {
   "cell_type": "code",
   "execution_count": 26,
   "id": "37a66857-9a31-4c04-8b77-1b7598274eef",
   "metadata": {},
   "outputs": [
    {
     "name": "stdout",
     "output_type": "stream",
     "text": [
      "사과 오렌지\n"
     ]
    }
   ],
   "source": [
    "print(apple, orange)"
   ]
  },
  {
   "cell_type": "code",
   "execution_count": 31,
   "id": "9ed62e84-f61a-4e94-a366-8545bb645473",
   "metadata": {},
   "outputs": [],
   "source": [
    "a = 20\n",
    "b = 10"
   ]
  },
  {
   "cell_type": "code",
   "execution_count": 32,
   "id": "15f495af-c1e1-49d7-82e2-833f7a21f344",
   "metadata": {},
   "outputs": [],
   "source": [
    "a, b = b, a"
   ]
  },
  {
   "cell_type": "code",
   "execution_count": 33,
   "id": "bae91d7b-0074-4581-8f49-3447a989916a",
   "metadata": {},
   "outputs": [
    {
     "name": "stdout",
     "output_type": "stream",
     "text": [
      "10 20\n"
     ]
    }
   ],
   "source": [
    "print(a, b)"
   ]
  },
  {
   "cell_type": "code",
   "execution_count": null,
   "id": "81395800-d565-49a5-9517-23b873fb5f96",
   "metadata": {},
   "outputs": [],
   "source": []
  }
 ],
 "metadata": {
  "kernelspec": {
   "display_name": "Python 3 (ipykernel)",
   "language": "python",
   "name": "python3"
  },
  "language_info": {
   "codemirror_mode": {
    "name": "ipython",
    "version": 3
   },
   "file_extension": ".py",
   "mimetype": "text/x-python",
   "name": "python",
   "nbconvert_exporter": "python",
   "pygments_lexer": "ipython3",
   "version": "3.12.7"
  }
 },
 "nbformat": 4,
 "nbformat_minor": 5
}
