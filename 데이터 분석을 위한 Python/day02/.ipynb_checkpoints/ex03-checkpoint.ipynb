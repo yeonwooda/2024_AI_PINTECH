{
 "cells": [
  {
   "cell_type": "code",
   "execution_count": null,
   "id": "b460f07d-5793-44b5-9921-40196f8ee314",
   "metadata": {},
   "outputs": [],
   "source": [
    "person = {'name': '이이름', 'age' : 40}"
   ]
  }
 ],
 "metadata": {
  "kernelspec": {
   "display_name": "Python 3 (ipykernel)",
   "language": "python",
   "name": "python3"
  },
  "language_info": {
   "codemirror_mode": {
    "name": "ipython",
    "version": 3
   },
   "file_extension": ".py",
   "mimetype": "text/x-python",
   "name": "python",
   "nbconvert_exporter": "python",
   "pygments_lexer": "ipython3",
   "version": "3.12.7"
  }
 },
 "nbformat": 4,
 "nbformat_minor": 5
}
