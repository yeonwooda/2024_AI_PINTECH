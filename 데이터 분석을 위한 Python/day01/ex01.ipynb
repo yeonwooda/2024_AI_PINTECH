{
 "cells": [
  {
   "cell_type": "code",
   "execution_count": 1,
   "id": "7e17370d-4bc2-4464-8bfb-d374d9cbbc7e",
   "metadata": {},
   "outputs": [
    {
     "name": "stdout",
     "output_type": "stream",
     "text": [
      "첫번째 파이썬 프로그램\n"
     ]
    }
   ],
   "source": [
    "print(\"첫번째 파이썬 프로그램\")"
   ]
  },
  {
   "cell_type": "code",
   "execution_count": 3,
   "id": "1df7c6d3-7657-4697-a760-58f3ae58c055",
   "metadata": {},
   "outputs": [
    {
     "data": {
      "text/plain": [
       "8"
      ]
     },
     "execution_count": 3,
     "metadata": {},
     "output_type": "execute_result"
    }
   ],
   "source": [
    "# ** 제곱 연산 \n",
    "2 ** 3 # 2의 3제곱"
   ]
  },
  {
   "cell_type": "code",
   "execution_count": 6,
   "id": "f12cccc9-d1af-470f-bcff-658bf02a6e9c",
   "metadata": {},
   "outputs": [
    {
     "name": "stdout",
     "output_type": "stream",
     "text": [
      "1\n"
     ]
    },
    {
     "data": {
      "text/plain": [
       "4"
      ]
     },
     "execution_count": 6,
     "metadata": {},
     "output_type": "execute_result"
    }
   ],
   "source": [
    "# % : 나머지 연산자\n",
    "# // : 몫을 구하는 연산자\n",
    "\n",
    "print(9 % 2)\n",
    "9 // 2\n",
    "\n"
   ]
  },
  {
   "cell_type": "code",
   "execution_count": 11,
   "id": "805bfb8f-c586-4b30-8baf-441ccc215be7",
   "metadata": {},
   "outputs": [
    {
     "data": {
      "text/plain": [
       "str"
      ]
     },
     "execution_count": 11,
     "metadata": {},
     "output_type": "execute_result"
    }
   ],
   "source": [
    "# a = 100\n",
    "#a = 100.123\n",
    "#a = \"Python\"\n",
    "a = 'Python'\n",
    "type(a) # 자료형 체크 함수 "
   ]
  },
  {
   "cell_type": "code",
   "execution_count": 12,
   "id": "7afc0064-1d26-4180-81f9-058496b79d36",
   "metadata": {},
   "outputs": [
    {
     "data": {
      "text/plain": [
       "\"Python's favorite food is per1\""
      ]
     },
     "execution_count": 12,
     "metadata": {},
     "output_type": "execute_result"
    }
   ],
   "source": [
    "\"Python's favorite food is per1\" #문자에 작은 따옴표가 섞여 있는 경우 큰 따옴표 사용가능"
   ]
  },
  {
   "cell_type": "code",
   "execution_count": 15,
   "id": "b5205d64-1966-4d8d-925d-463d17c2528e",
   "metadata": {},
   "outputs": [
    {
     "data": {
      "text/plain": [
       "\"Python's favorite food is per1\""
      ]
     },
     "execution_count": 15,
     "metadata": {},
     "output_type": "execute_result"
    }
   ],
   "source": [
    "# 'Python's favorite food is per1' 문법 오류 발생\n",
    "\"Python\\'s favorite food is per1\" # \\ ' - 작은 따옴표 인식 가능 \\ - escape 문자\n",
    "\"Python\\\"s favorite food is per1\" # \\ \" - 큰 따옴표 인식 가능 \\ "
   ]
  },
  {
   "cell_type": "code",
   "execution_count": 16,
   "id": "d86fd0c9-44a0-4553-a4e7-dc3a3dfd1610",
   "metadata": {},
   "outputs": [
    {
     "name": "stdout",
     "output_type": "stream",
     "text": [
      "Life is short,\n",
      "You need python\n"
     ]
    }
   ],
   "source": [
    "a = \"Life is short,\\nYou need python\" # \\n - 메타 문자 /줄 개행\n",
    "print(a)"
   ]
  },
  {
   "cell_type": "code",
   "execution_count": 17,
   "id": "a4bd6282-a8d9-4a8b-ad17-1cf4cff6aa54",
   "metadata": {},
   "outputs": [
    {
     "name": "stdout",
     "output_type": "stream",
     "text": [
      "LIfe is short, \n",
      "You need Python\n"
     ]
    }
   ],
   "source": [
    "b = \"\"\"LIfe is short, \n",
    "You need Python\"\"\" # \"\"\" 또는 ''' 모두 가능!\n",
    "print(b)"
   ]
  },
  {
   "cell_type": "code",
   "execution_count": 19,
   "id": "f0098964-d5cc-4e94-a23c-a3ce15df5bcc",
   "metadata": {},
   "outputs": [
    {
     "data": {
      "text/plain": [
       "'python is fun!'"
      ]
     },
     "execution_count": 19,
     "metadata": {},
     "output_type": "execute_result"
    }
   ],
   "source": [
    "\"python\" + \" is\" + \" fun!\""
   ]
  },
  {
   "cell_type": "code",
   "execution_count": 21,
   "id": "176dd3c6-3daa-4ee6-bb34-e1f1acfb5927",
   "metadata": {},
   "outputs": [
    {
     "data": {
      "text/plain": [
       "'pythonpythonpythonpython'"
      ]
     },
     "execution_count": 21,
     "metadata": {},
     "output_type": "execute_result"
    }
   ],
   "source": [
    "\"python\" * 4"
   ]
  },
  {
   "cell_type": "code",
   "execution_count": 23,
   "id": "a0d9f77f-9fda-4685-a8e1-c8938f309f84",
   "metadata": {},
   "outputs": [
    {
     "name": "stdout",
     "output_type": "stream",
     "text": [
      "==============================\n",
      "재미있는 파이썬 공부!\n",
      "==============================\n"
     ]
    }
   ],
   "source": [
    "print(\"=\" * 30)\n",
    "print(\"재미있는 파이썬 공부!\")\n",
    "print(\"=\" * 30)"
   ]
  },
  {
   "cell_type": "code",
   "execution_count": 25,
   "id": "b72a3fd6-03d4-4a7f-90dc-ce5210b8b407",
   "metadata": {},
   "outputs": [
    {
     "data": {
      "text/plain": [
       "5"
      ]
     },
     "execution_count": 25,
     "metadata": {},
     "output_type": "execute_result"
    }
   ],
   "source": [
    "a = \"가나다라마\"\n",
    "len(a)"
   ]
  },
  {
   "cell_type": "code",
   "execution_count": 40,
   "id": "2cee98d9-043a-47ab-acbb-356dd1288d54",
   "metadata": {},
   "outputs": [
    {
     "data": {
      "text/plain": [
       "34"
      ]
     },
     "execution_count": 40,
     "metadata": {},
     "output_type": "execute_result"
    }
   ],
   "source": [
    "a = \"Life is too short, You need Python\"\n",
    "len(a)"
   ]
  },
  {
   "cell_type": "code",
   "execution_count": 46,
   "id": "85150ed4-20a8-43c4-a173-e69b31c67fa8",
   "metadata": {},
   "outputs": [
    {
     "name": "stdout",
     "output_type": "stream",
     "text": [
      "Life is too short, You need Python\n",
      "Life 2614171344480 2614174399216\n"
     ]
    }
   ],
   "source": [
    "b = a[:] # 문자열 전체 복사 \n",
    "print(b)\n",
    "# print(id(a), id(b))\n",
    "print(a[0:4], id(a[0:4]), id(a))"
   ]
  },
  {
   "cell_type": "code",
   "execution_count": 44,
   "id": "837e8da7-f25f-463a-8f4d-febca3e5a730",
   "metadata": {},
   "outputs": [
    {
     "data": {
      "text/plain": [
       "'Life is too short, You need'"
      ]
     },
     "execution_count": 44,
     "metadata": {},
     "output_type": "execute_result"
    }
   ],
   "source": [
    "#a[-6:-1]\n",
    "a[-6:]\n",
    "a[:-7] # 0 ~ -8"
   ]
  },
  {
   "cell_type": "code",
   "execution_count": 36,
   "id": "bf0bff88-8bdb-44f2-851e-f6105eeee63a",
   "metadata": {},
   "outputs": [
    {
     "data": {
      "text/plain": [
       "'Life'"
      ]
     },
     "execution_count": 36,
     "metadata": {},
     "output_type": "execute_result"
    }
   ],
   "source": [
    "a[0:4] # 0, 1, 2, 3"
   ]
  },
  {
   "cell_type": "code",
   "execution_count": 35,
   "id": "f5d0b962-c5f5-465d-943c-cd1c7184c047",
   "metadata": {},
   "outputs": [
    {
     "data": {
      "text/plain": [
       "'n'"
      ]
     },
     "execution_count": 35,
     "metadata": {},
     "output_type": "execute_result"
    }
   ],
   "source": [
    "a[-1] "
   ]
  },
  {
   "cell_type": "code",
   "execution_count": 29,
   "id": "23eed181-fa79-42fe-b031-9f11b62fa87e",
   "metadata": {},
   "outputs": [
    {
     "data": {
      "text/plain": [
       "'f'"
      ]
     },
     "execution_count": 29,
     "metadata": {},
     "output_type": "execute_result"
    }
   ],
   "source": [
    "a[2]"
   ]
  },
  {
   "cell_type": "code",
   "execution_count": 30,
   "id": "e04500e2-5b0c-4bce-805f-fb2daeabb089",
   "metadata": {},
   "outputs": [
    {
     "ename": "TypeError",
     "evalue": "'str' object does not support item assignment",
     "output_type": "error",
     "traceback": [
      "\u001b[1;31m---------------------------------------------------------------------------\u001b[0m",
      "\u001b[1;31mTypeError\u001b[0m                                 Traceback (most recent call last)",
      "Cell \u001b[1;32mIn[30], line 1\u001b[0m\n\u001b[1;32m----> 1\u001b[0m \u001b[43ma\u001b[49m\u001b[43m[\u001b[49m\u001b[38;5;241;43m2\u001b[39;49m\u001b[43m]\u001b[49m \u001b[38;5;241m=\u001b[39m \u001b[38;5;124m'\u001b[39m\u001b[38;5;124mF\u001b[39m\u001b[38;5;124m'\u001b[39m\n",
      "\u001b[1;31mTypeError\u001b[0m: 'str' object does not support item assignment"
     ]
    }
   ],
   "source": [
    "a[2] = 'F'"
   ]
  },
  {
   "cell_type": "code",
   "execution_count": 34,
   "id": "bdc11ed3-727f-429c-a048-83a3694f1e07",
   "metadata": {},
   "outputs": [
    {
     "name": "stdout",
     "output_type": "stream",
     "text": [
      "140723883033520\n",
      "2614160662160\n",
      "ABCDEF\n"
     ]
    }
   ],
   "source": [
    "b = \"ABC\" # id(...) 자원의 주소를 조회하는 함수\n",
    "print(id(b))\n",
    "\n",
    "b += \"DEF\"\n",
    "print(id(b))\n",
    "print(b)"
   ]
  },
  {
   "cell_type": "code",
   "execution_count": 52,
   "id": "f3d0d4ee-6aa7-446b-8b34-5635bd57b97e",
   "metadata": {},
   "outputs": [
    {
     "name": "stdout",
     "output_type": "stream",
     "text": [
      "Python\n"
     ]
    }
   ],
   "source": [
    "a = \"Pithon\" # Python 변경 하시오 슬라이싱이 힌트 \n",
    "b = a[0] + 'y' + a[2:] \n",
    "print(b)"
   ]
  },
  {
   "cell_type": "code",
   "execution_count": 55,
   "id": "902da83c-2144-49aa-964c-79307c62d4e4",
   "metadata": {},
   "outputs": [
    {
     "data": {
      "text/plain": [
       "'I eat three apples.'"
      ]
     },
     "execution_count": 55,
     "metadata": {},
     "output_type": "execute_result"
    }
   ],
   "source": [
    "# \"I eat %d apples.\" % 3 \n",
    "\"I eat %s apples.\" % \"three\""
   ]
  },
  {
   "cell_type": "code",
   "execution_count": 56,
   "id": "96454ba6-52c4-4625-a2ea-b90b64f9aecc",
   "metadata": {},
   "outputs": [
    {
     "data": {
      "text/plain": [
       "'I eat 3 apples and 5 breads'"
      ]
     },
     "execution_count": 56,
     "metadata": {},
     "output_type": "execute_result"
    }
   ],
   "source": [
    "\"I eat %d apples and %d breads\" % (3, 5) # 튜플"
   ]
  },
  {
   "cell_type": "code",
   "execution_count": 60,
   "id": "150374b3-d9e4-4c8d-827c-a5387381008c",
   "metadata": {},
   "outputs": [
    {
     "data": {
      "text/plain": [
       "'loading is now 78%'"
      ]
     },
     "execution_count": 60,
     "metadata": {},
     "output_type": "execute_result"
    }
   ],
   "source": [
    "\"loading is now %d%%\" % 78 # 형식화를 위한 문법적 문자로 인식하므로 %%써야 %문자로 인식"
   ]
  },
  {
   "cell_type": "code",
   "execution_count": 62,
   "id": "3139e01f-abf4-4bbc-9c23-9a6d95ad3e9d",
   "metadata": {},
   "outputs": [
    {
     "data": {
      "text/plain": [
       "'ABC       DEF'"
      ]
     },
     "execution_count": 62,
     "metadata": {},
     "output_type": "execute_result"
    }
   ],
   "source": [
    "\"ABC%10s\" % \"DEF\" "
   ]
  },
  {
   "cell_type": "code",
   "execution_count": 64,
   "id": "3f90bc8a-c5fd-4947-80e2-865062744a24",
   "metadata": {},
   "outputs": [
    {
     "data": {
      "text/plain": [
       "'ABC       DEF'"
      ]
     },
     "execution_count": 64,
     "metadata": {},
     "output_type": "execute_result"
    }
   ],
   "source": [
    "\"%-10sDEF\" % \"ABC\""
   ]
  },
  {
   "cell_type": "code",
   "execution_count": 65,
   "id": "ee13994b-d853-46ac-81ff-70b44b448ddd",
   "metadata": {},
   "outputs": [
    {
     "data": {
      "text/plain": [
       "'   12.1235'"
      ]
     },
     "execution_count": 65,
     "metadata": {},
     "output_type": "execute_result"
    }
   ],
   "source": [
    "\"%10.4f\" % 12.12345678"
   ]
  },
  {
   "cell_type": "code",
   "execution_count": 69,
   "id": "0e1137d8-8858-4960-b534-ea1b0efb6cc8",
   "metadata": {},
   "outputs": [
    {
     "data": {
      "text/plain": [
       "'12341234.1234'"
      ]
     },
     "execution_count": 69,
     "metadata": {},
     "output_type": "execute_result"
    }
   ],
   "source": [
    "#\"%0.4f\" % 12341234.12341234\n",
    "\"%.4f\" % 12341234.12341234"
   ]
  },
  {
   "cell_type": "code",
   "execution_count": 79,
   "id": "b104e17f-f5e9-40a8-9859-6953aa795403",
   "metadata": {},
   "outputs": [
    {
     "data": {
      "text/plain": [
       "'I eat three apples.'"
      ]
     },
     "execution_count": 79,
     "metadata": {},
     "output_type": "execute_result"
    }
   ],
   "source": [
    "#\"I eat {0} apples.\".format(3)\n",
    "\"I eat {0} apples.\".format(\"three\")\n",
    "#\"I eat {0} apples and {1} breads.\".format(3, \"five\")\n",
    "# \"I eat {num1} apples and {num2} breads\".format(num1=3, num2=5)\n",
    "#\"I eat {0}, {1} apples and {num} breads\".format(3, 5, num=\"five\")"
   ]
  },
  {
   "cell_type": "code",
   "execution_count": 86,
   "id": "c2fe0f93-b0ff-46f0-8262-6e905a1da9ad",
   "metadata": {},
   "outputs": [
    {
     "data": {
      "text/plain": [
       "'안녕!!!!!!!!'"
      ]
     },
     "execution_count": 86,
     "metadata": {},
     "output_type": "execute_result"
    }
   ],
   "source": [
    "#\"{0:<10}\".format(\"안녕\")\n",
    "\"{0:!<10}\".format(\"안녕\")"
   ]
  },
  {
   "cell_type": "code",
   "execution_count": 81,
   "id": "963c25cd-067b-4ada-9031-f172e6641dc5",
   "metadata": {},
   "outputs": [
    {
     "data": {
      "text/plain": [
       "'        안녕'"
      ]
     },
     "execution_count": 81,
     "metadata": {},
     "output_type": "execute_result"
    }
   ],
   "source": [
    "\"{0:>10}\".format(\"안녕\")"
   ]
  },
  {
   "cell_type": "code",
   "execution_count": 85,
   "id": "c71382e7-d82c-4677-af97-9246a539d549",
   "metadata": {},
   "outputs": [
    {
     "data": {
      "text/plain": [
       "'****안녕****'"
      ]
     },
     "execution_count": 85,
     "metadata": {},
     "output_type": "execute_result"
    }
   ],
   "source": [
    "# \"{0:^10}\".format(\"안녕\")\n",
    "\"{0:*^10}\".format(\"안녕\") # 공백을 *로 채워 넣는다!\n",
    "\n"
   ]
  },
  {
   "cell_type": "code",
   "execution_count": 87,
   "id": "1e1095b7-d461-4695-834f-60f1d33b92b5",
   "metadata": {},
   "outputs": [
    {
     "data": {
      "text/plain": [
       "'100.123'"
      ]
     },
     "execution_count": 87,
     "metadata": {},
     "output_type": "execute_result"
    }
   ],
   "source": [
    "\"{0:0.3f}\".format(100.12345678)"
   ]
  },
  {
   "cell_type": "code",
   "execution_count": 89,
   "id": "6d4b8d42-149b-485d-a2ee-ba7496e4721c",
   "metadata": {},
   "outputs": [
    {
     "data": {
      "text/plain": [
       "'{   number1  } - 100'"
      ]
     },
     "execution_count": 89,
     "metadata": {},
     "output_type": "execute_result"
    }
   ],
   "source": [
    "\"{{   number1  }} - {0}\".format(100)  #{  }를 문자로 인식하려면 {{}}"
   ]
  },
  {
   "cell_type": "code",
   "execution_count": 93,
   "id": "df2b783a-2009-4fe0-b5f7-9f18c9971227",
   "metadata": {},
   "outputs": [
    {
     "data": {
      "text/plain": [
       "'num1=10, num2=20, result=30'"
      ]
     },
     "execution_count": 93,
     "metadata": {},
     "output_type": "execute_result"
    }
   ],
   "source": [
    "num1 = 10\n",
    "num2 = 20\n",
    "f\"num1={num1}, num2={num2}, result={num1 + num2}\" # 파이썬 3.6 버전부터 도입된 문법"
   ]
  },
  {
   "cell_type": "code",
   "execution_count": 99,
   "id": "5ab6b693-fc20-4e43-becd-08e8b1eb7cf7",
   "metadata": {},
   "outputs": [
    {
     "data": {
      "text/plain": [
       "'****안녕****'"
      ]
     },
     "execution_count": 99,
     "metadata": {},
     "output_type": "execute_result"
    }
   ],
   "source": [
    "# f\"{'안녕':<10}\"\n",
    "# f\"{'안녕':>10}\"\n",
    "# f\"{'안녕':^10}\"\n",
    "f\"{'안녕':*^10}\""
   ]
  },
  {
   "cell_type": "code",
   "execution_count": 102,
   "id": "9c1ef077-b80f-4db4-96d6-4d42bad4be0c",
   "metadata": {},
   "outputs": [],
   "source": [
    "a = \"Life is too short, You need Python.\""
   ]
  },
  {
   "cell_type": "code",
   "execution_count": 105,
   "id": "df80993e-5a34-4ba9-81af-653b1f0ac13c",
   "metadata": {},
   "outputs": [
    {
     "data": {
      "text/plain": [
       "-1"
      ]
     },
     "execution_count": 105,
     "metadata": {},
     "output_type": "execute_result"
    }
   ],
   "source": [
    "# a.find(\"too\")\n",
    "a.find(\"tooo\")"
   ]
  },
  {
   "cell_type": "code",
   "execution_count": 112,
   "id": "2e139599-1179-4618-911e-1356c51d3561",
   "metadata": {},
   "outputs": [
    {
     "ename": "ValueError",
     "evalue": "substring not found",
     "output_type": "error",
     "traceback": [
      "\u001b[1;31m---------------------------------------------------------------------------\u001b[0m",
      "\u001b[1;31mValueError\u001b[0m                                Traceback (most recent call last)",
      "Cell \u001b[1;32mIn[112], line 2\u001b[0m\n\u001b[0;32m      1\u001b[0m \u001b[38;5;66;03m# a.index(\"too\")\u001b[39;00m\n\u001b[1;32m----> 2\u001b[0m \u001b[43ma\u001b[49m\u001b[38;5;241;43m.\u001b[39;49m\u001b[43mindex\u001b[49m\u001b[43m(\u001b[49m\u001b[38;5;124;43m\"\u001b[39;49m\u001b[38;5;124;43mtooo\u001b[39;49m\u001b[38;5;124;43m\"\u001b[39;49m\u001b[43m)\u001b[49m\n",
      "\u001b[1;31mValueError\u001b[0m: substring not found"
     ]
    }
   ],
   "source": [
    "# a.index(\"too\")\n",
    "a.index(\"tooo\")"
   ]
  },
  {
   "cell_type": "code",
   "execution_count": null,
   "id": "3f3157a9-aa4d-4e0b-98e8-4cda341688df",
   "metadata": {},
   "outputs": [],
   "source": []
  },
  {
   "cell_type": "code",
   "execution_count": null,
   "id": "8e113241-efa5-4d60-b430-5fbb50b13e9b",
   "metadata": {},
   "outputs": [],
   "source": []
  },
  {
   "cell_type": "code",
   "execution_count": null,
   "id": "dafa52dc-9ec7-420e-9c1c-e5871212884e",
   "metadata": {},
   "outputs": [],
   "source": []
  },
  {
   "cell_type": "code",
   "execution_count": null,
   "id": "c8bdc77d-37ac-4afc-8ecc-631db64ca273",
   "metadata": {},
   "outputs": [],
   "source": []
  }
 ],
 "metadata": {
  "kernelspec": {
   "display_name": "Python 3 (ipykernel)",
   "language": "python",
   "name": "python3"
  },
  "language_info": {
   "codemirror_mode": {
    "name": "ipython",
    "version": 3
   },
   "file_extension": ".py",
   "mimetype": "text/x-python",
   "name": "python",
   "nbconvert_exporter": "python",
   "pygments_lexer": "ipython3",
   "version": "3.12.7"
  }
 },
 "nbformat": 4,
 "nbformat_minor": 5
}
