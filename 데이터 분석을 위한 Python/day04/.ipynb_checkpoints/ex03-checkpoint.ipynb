{
 "cells": [
  {
   "cell_type": "code",
   "execution_count": 12,
   "id": "e12cea53-5779-4a4f-9f44-2228056a7423",
   "metadata": {},
   "outputs": [],
   "source": [
    "class Calculator:\n",
    "    #  Calculator() 호출 시 가장 먼저 호출되는 메서드\n",
    "    # 객체 변수(인스턴스 변수) 초기화 작업을 주로 담당\n",
    "    def __init__(self, a, b):\n",
    "        self.a = a\n",
    "        self.b = b\n",
    "        \n",
    "    # self: 객체 자원 중 객체 변수(인스턴스 변수)를 접근하기 위한 수단\n",
    "    def add(self):\n",
    "        return self.a + self.b # 객체 변수 a, 객체변수 b를 더한다\n",
    "\n",
    "    def sub(self):\n",
    "        return self.a - self.b\n",
    "    def mul(self):\n",
    "        return self.a * self.b\n",
    "\n",
    "    def div(self)\n",
    "        return self.a / self.b"
   ]
  },
  {
   "cell_type": "code",
   "execution_count": 14,
   "id": "5cf07fdc-8ecd-43e8-a224-bf7097dea32a",
   "metadata": {},
   "outputs": [],
   "source": [
    "# cal = Calculator()\n",
    "cal = Calculator(10, 20)"
   ]
  },
  {
   "cell_type": "code",
   "execution_count": 15,
   "id": "9835ccf4-c8e8-4f69-9bb1-2f508fe161be",
   "metadata": {},
   "outputs": [
    {
     "data": {
      "text/plain": [
       "30"
      ]
     },
     "execution_count": 15,
     "metadata": {},
     "output_type": "execute_result"
    }
   ],
   "source": [
    "# cal.a = 10 # 객체 변수(인스턴스 변수)\n",
    "# cal.b = 20 \n",
    "# Calculator.add(cal)\n",
    "cal.add()"
   ]
  },
  {
   "cell_type": "code",
   "execution_count": 25,
   "id": "9d4bb63f-7002-445b-951e-51b43179077f",
   "metadata": {},
   "outputs": [],
   "source": [
    "class ProCalculator(Calculator): # 상속, ProCalculator- 자식, Calculator - 부모\n",
    "        def div(self): # Calculator에 정의된 div를 재정의, 메서드 재정의\n",
    "            if self.b == 0:\n",
    "                return 0\n",
    "            return Calculator.div(self)\n",
    "         #   return self.a / self.b\n",
    "        def square(self, x):\n",
    "            return x ** 2"
   ]
  },
  {
   "cell_type": "code",
   "execution_count": 24,
   "id": "7b54de68-fad4-40c3-830f-0430b3f0a96e",
   "metadata": {},
   "outputs": [
    {
     "data": {
      "text/plain": [
       "10"
      ]
     },
     "execution_count": 24,
     "metadata": {},
     "output_type": "execute_result"
    }
   ],
   "source": [
    "cal2 = ProCalculator(10, 0)\n",
    "cal2.add()"
   ]
  },
  {
   "cell_type": "code",
   "execution_count": 28,
   "id": "e2609966-45e7-453f-82a8-f17fc9c1409c",
   "metadata": {},
   "outputs": [],
   "source": [
    "class Student:\n",
    "    def __init__(self, id, name, major): #self는 꼭 있어야하는 매개변수\n",
    "        self.id = id\n",
    "        self.name = name\n",
    "        self.major = major\n",
    "    '''\n",
    "        자바의 toString() 메서드와 유사! \n",
    "    '''\n",
    "    def __str__(self):\n",
    "        return f'id=${self.id}, name={self.name}, major={self.major}'\n",
    "        "
   ]
  },
  {
   "cell_type": "code",
   "execution_count": 29,
   "id": "ba0d9017-3795-416c-a253-37d330da3ec2",
   "metadata": {},
   "outputs": [
    {
     "name": "stdout",
     "output_type": "stream",
     "text": [
      "id=$1000, name=이이름, major=파이썬\n"
     ]
    }
   ],
   "source": [
    "s1 = Student(1000, \"이이름\", \"파이썬\")\n",
    "print(s1) # def __str__(self)"
   ]
  },
  {
   "cell_type": "code",
   "execution_count": 31,
   "id": "ef5313f5-838a-4233-9a59-3bd5f66e67e5",
   "metadata": {},
   "outputs": [],
   "source": [
    "class Multiply:\n",
    "    def __init__(self, num):\n",
    "        self.num = num\n",
    "        \n",
    "    # 객체의 참조 변수를 함수 처럼 호출 했을때 실행\n",
    "    def __call__(self, num):\n",
    "        return self.num * num\n",
    "\n",
    "    def __str__(self):\n",
    "        return str(self.num)"
   ]
  },
  {
   "cell_type": "code",
   "execution_count": 33,
   "id": "471e20c8-3e61-4062-9284-009a03dab414",
   "metadata": {},
   "outputs": [
    {
     "name": "stdout",
     "output_type": "stream",
     "text": [
      "200\n",
      "<__main__.Multiply object at 0x0000019886DF05F0>\n"
     ]
    }
   ],
   "source": [
    "mul = Multiply(10) # __init__(self, num) 호출\n",
    "result = mul(20) # __call__(self, num) 호출\n",
    "print(result)\n",
    "print(mul) # __str__(self) 호출"
   ]
  },
  {
   "cell_type": "code",
   "execution_count": 38,
   "id": "6c0a4c5c-0f53-4d17-8274-b7bd05460ce3",
   "metadata": {},
   "outputs": [],
   "source": [
    "class Family:\n",
    "    lastname = '이' # 클래스 변수 - 객체 생성 상관없이 접근 가능, \n",
    "# self.변수 - 인스턴스 변수(객체 생성시 접근 가능)\n",
    "    \n",
    "# Family.lastname = '이' 동일하다 위에랑"
   ]
  },
  {
   "cell_type": "code",
   "execution_count": 36,
   "id": "a01b8a50-210d-4c37-b0bc-f3a7c84fb7b3",
   "metadata": {},
   "outputs": [],
   "source": [
    "#Family.lastname = '이' # 클래스 변수, 정적변수, 다른 객체가 공유할 목적의 변수"
   ]
  },
  {
   "cell_type": "code",
   "execution_count": 40,
   "id": "39d5016a-02c6-48a7-98bd-c68875e54ca7",
   "metadata": {},
   "outputs": [
    {
     "name": "stdout",
     "output_type": "stream",
     "text": [
      "f1: 김\n",
      "f2: 이\n"
     ]
    }
   ],
   "source": [
    "f1 = Family()\n",
    "f2 = Family()\n",
    "\n",
    "f1.lastname = '김' # 인스턴스 변수(객체변수)\n",
    "print(\"f1: %s\" % f1.lastname) # f1.lastname : 인스턴스 변수와 헷갈림, 클래스명으로 직접 접근! \n",
    "# Family.lastname으로 접근\n",
    "print(\"f2: %s\" % f2.lastname)"
   ]
  },
  {
   "cell_type": "code",
   "execution_count": 42,
   "id": "a246423a-4b1e-4b5f-a333-a15f675ebfcb",
   "metadata": {},
   "outputs": [],
   "source": [
    "class Bird:\n",
    "    def fly(self):\n",
    "        raise NotImplementedError"
   ]
  },
  {
   "cell_type": "code",
   "execution_count": 46,
   "id": "20c5366f-e0c8-496c-a599-71652a0353d1",
   "metadata": {},
   "outputs": [],
   "source": [
    "class Eagle(Bird):\n",
    "    def fly(self): # 메서드 재정의\n",
    "        print(\"독수리가 아주 빠르게 날아간다!\")"
   ]
  },
  {
   "cell_type": "code",
   "execution_count": 47,
   "id": "a7a5c2d1-8f76-4350-bf41-26f8d1716dff",
   "metadata": {},
   "outputs": [
    {
     "name": "stdout",
     "output_type": "stream",
     "text": [
      "독수리가 아주 빠르게 날아간다!\n"
     ]
    }
   ],
   "source": [
    "e1 = Eagle()\n",
    "e1.fly()"
   ]
  },
  {
   "cell_type": "code",
   "execution_count": null,
   "id": "60f7ca9c-ae70-433b-9852-53356a83e6af",
   "metadata": {},
   "outputs": [],
   "source": []
  }
 ],
 "metadata": {
  "kernelspec": {
   "display_name": "Python 3 (ipykernel)",
   "language": "python",
   "name": "python3"
  },
  "language_info": {
   "codemirror_mode": {
    "name": "ipython",
    "version": 3
   },
   "file_extension": ".py",
   "mimetype": "text/x-python",
   "name": "python",
   "nbconvert_exporter": "python",
   "pygments_lexer": "ipython3",
   "version": "3.12.7"
  }
 },
 "nbformat": 4,
 "nbformat_minor": 5
}
