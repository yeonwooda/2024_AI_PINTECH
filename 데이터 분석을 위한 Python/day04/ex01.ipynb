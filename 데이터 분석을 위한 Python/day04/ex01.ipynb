{
 "cells": [
  {
   "cell_type": "code",
   "execution_count": 2,
   "id": "1954f106-6873-49fe-9d0e-911c5ee3c32f",
   "metadata": {},
   "outputs": [],
   "source": [
    "f = open('D:/data.txt', 'w') # w - 쓰기, 지정된 경로에 파일이 없는 경우 새 파일을 하나 생성 \n",
    "\n",
    "for i in range(1, 11): # 1 ~ 10 - 10회 반복\n",
    "    f.write(\"%d번 라인\\n\" % i)\n",
    "    \n",
    "f.close()"
   ]
  },
  {
   "cell_type": "code",
   "execution_count": 4,
   "id": "06e6e846-2781-42e8-b3bd-b92ee092935a",
   "metadata": {},
   "outputs": [
    {
     "name": "stdout",
     "output_type": "stream",
     "text": [
      "1번 라인\n",
      "2번 라인\n",
      "3번 라인\n",
      "4번 라인\n",
      "5번 라인\n",
      "6번 라인\n",
      "7번 라인\n",
      "8번 라인\n",
      "9번 라인\n",
      "10번 라인\n",
      "\n"
     ]
    }
   ],
   "source": [
    "# 파일 읽기\n",
    "f = open(\"D:/data.txt\", \"r\") # r 읽기  모드\n",
    "\n",
    "data = f.read() # 파일 내용 전체 읽기\n",
    "\n",
    "f.close()\n",
    "\n",
    "print(data)"
   ]
  },
  {
   "cell_type": "code",
   "execution_count": 9,
   "id": "9b72dc2d-a034-44c1-9eab-95b2ee83c9e3",
   "metadata": {
    "collapsed": true,
    "jupyter": {
     "outputs_hidden": true
    }
   },
   "outputs": [
    {
     "name": "stdout",
     "output_type": "stream",
     "text": [
      "1번 라인\n",
      "2번 라인\n",
      "3번 라인\n",
      "4번 라인\n",
      "5번 라인\n",
      "6번 라인\n",
      "7번 라인\n",
      "8번 라인\n",
      "9번 라인\n",
      "10번 라인\n"
     ]
    }
   ],
   "source": [
    "# 한줄 한줄 읽기 - readline()\n",
    "f = open(\"D:/data.txt\", \"r\")\n",
    "\n",
    "while True:\n",
    "    line = f.readline()\n",
    "    if not line: break\n",
    "    #print(line, end='')  # end의 기본값 \\n\n",
    "    print(line.strip())\n",
    "f.close()"
   ]
  },
  {
   "cell_type": "code",
   "execution_count": 10,
   "id": "481e25d5-b901-4545-b54c-274bb779b5dc",
   "metadata": {},
   "outputs": [
    {
     "name": "stdout",
     "output_type": "stream",
     "text": [
      "1번 라인\n",
      "2번 라인\n",
      "3번 라인\n",
      "4번 라인\n",
      "5번 라인\n",
      "6번 라인\n",
      "7번 라인\n",
      "8번 라인\n",
      "9번 라인\n",
      "10번 라인\n"
     ]
    }
   ],
   "source": [
    "# 한꺼번에 읽어와서 한줄 한줄 리스트로 반환 - readlines()\n",
    "f = open(\"D:/data.txt\", \"r\")\n",
    "lines = f.readlines()\n",
    "for line in lines:\n",
    "    print(line, end='')\n",
    "    \n",
    "f.close()"
   ]
  },
  {
   "cell_type": "code",
   "execution_count": null,
   "id": "cf2b5ecf-b91f-4f5d-aa79-328fe3d6c215",
   "metadata": {},
   "outputs": [],
   "source": [
    "f = open(\"D:/data.txt\", \"r\")\n",
    "\n",
    "for line in f:\n",
    "    print(line, end='')\n",
    "\n",
    "f.close()"
   ]
  },
  {
   "cell_type": "code",
   "execution_count": 12,
   "id": "89795019-4dad-46cc-a425-19f3a86607a9",
   "metadata": {},
   "outputs": [],
   "source": [
    "f = open(\"D:/log.txt\", \"a\") # a : append - 추가 텍스트가 계속 끝에 추가\n",
    "\n",
    "f.write(\"로그3\\n\")\n",
    "f.write(\"로그4\\n\") # 기존거 유지하고 끝에 계속 추가\n",
    "f.close()"
   ]
  },
  {
   "cell_type": "code",
   "execution_count": 13,
   "id": "dcb5e9ab-0318-4383-8810-9e0c9f782e91",
   "metadata": {},
   "outputs": [],
   "source": [
    "# 자원해제 자동화 - with 구문\n",
    "\n",
    "with open(\"D:/data2.txt\", \"w\") as f:\n",
    "    f.write(\"테스트 텍스트\")\n"
   ]
  },
  {
   "cell_type": "code",
   "execution_count": null,
   "id": "2ed0997a-6805-40a5-bf6f-f47434f0bcca",
   "metadata": {},
   "outputs": [],
   "source": []
  }
 ],
 "metadata": {
  "kernelspec": {
   "display_name": "Python 3 (ipykernel)",
   "language": "python",
   "name": "python3"
  },
  "language_info": {
   "codemirror_mode": {
    "name": "ipython",
    "version": 3
   },
   "file_extension": ".py",
   "mimetype": "text/x-python",
   "name": "python",
   "nbconvert_exporter": "python",
   "pygments_lexer": "ipython3",
   "version": "3.12.7"
  }
 },
 "nbformat": 4,
 "nbformat_minor": 5
}
